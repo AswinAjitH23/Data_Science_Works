{
  "cells": [
    {
      "cell_type": "code",
      "execution_count": 1,
      "id": "a500643f-ceb3-454d-a528-cbd3716c16e3",
      "metadata": {
        "id": "a500643f-ceb3-454d-a528-cbd3716c16e3",
        "colab": {
          "base_uri": "https://localhost:8080/"
        },
        "outputId": "43d9b936-06f7-4427-8d56-440dc3ed9532"
      },
      "outputs": [
        {
          "output_type": "stream",
          "name": "stdout",
          "text": [
            "<class 'list'>\n"
          ]
        }
      ],
      "source": [
        "# 1. Declare an empty list\n",
        "empty_list = []\n",
        "print(type(empty_list))"
      ]
    },
    {
      "cell_type": "code",
      "execution_count": 2,
      "id": "ce64b9b4-d594-4698-8c04-6f871ab7af16",
      "metadata": {
        "id": "ce64b9b4-d594-4698-8c04-6f871ab7af16",
        "colab": {
          "base_uri": "https://localhost:8080/"
        },
        "outputId": "57be03ed-753d-4bfe-d21c-f406b76a861c"
      },
      "outputs": [
        {
          "output_type": "stream",
          "name": "stdout",
          "text": [
            "[1234, 'python', 2.3, (1+4j), True, 'list']\n"
          ]
        }
      ],
      "source": [
        "# 2. Declare a list with more than 5 items\n",
        "sample_list = [1234, 'python', 2.3, 1+4j, True, 'list']\n",
        "print(sample_list)"
      ]
    },
    {
      "cell_type": "code",
      "execution_count": 3,
      "id": "60ee73cc-7799-4040-94a2-54968aab9ce0",
      "metadata": {
        "colab": {
          "base_uri": "https://localhost:8080/"
        },
        "id": "60ee73cc-7799-4040-94a2-54968aab9ce0",
        "outputId": "376ccbda-c022-44e0-b601-f19228d9f9df"
      },
      "outputs": [
        {
          "output_type": "stream",
          "name": "stdout",
          "text": [
            "Length of sample_list: 6\n"
          ]
        }
      ],
      "source": [
        "# 3. Find the length of your list\n",
        "print(\"Length of sample_list:\",len(sample_list))"
      ]
    },
    {
      "cell_type": "code",
      "execution_count": 6,
      "id": "a717c28b-d4fe-4f2c-b99f-1aaea0c2dc4f",
      "metadata": {
        "colab": {
          "base_uri": "https://localhost:8080/"
        },
        "id": "a717c28b-d4fe-4f2c-b99f-1aaea0c2dc4f",
        "outputId": "1ba1bf5e-dc99-4abf-cb02-46b1f1f7deec"
      },
      "outputs": [
        {
          "output_type": "stream",
          "name": "stdout",
          "text": [
            "First item: 1234 ,Middle item: (1+4j) ,Last item: list\n"
          ]
        }
      ],
      "source": [
        "# 4.Get the first item, the middle item and the last item of the list\n",
        "print(\"First item:\",sample_list[0],\",Middle item:\",sample_list[len(sample_list)//2],\",Last item:\",sample_list[-1])"
      ]
    },
    {
      "cell_type": "code",
      "execution_count": 7,
      "id": "646d4e51-10e2-4781-bedd-2660ae979c81",
      "metadata": {
        "id": "646d4e51-10e2-4781-bedd-2660ae979c81",
        "colab": {
          "base_uri": "https://localhost:8080/"
        },
        "outputId": "26deaa19-12f1-4853-f758-b8b08dfdd753"
      },
      "outputs": [
        {
          "output_type": "stream",
          "name": "stdout",
          "text": [
            "['Aswin', 25, 180.0, 'single', 'Naduvilkara']\n"
          ]
        }
      ],
      "source": [
        "# 5.Declare a list called mixed_data_types, put your(name, age, height, marital status, address)\n",
        "mixed_data_types = ['Aswin', 25, 180.00, 'single', 'Naduvilkara']\n",
        "print(mixed_data_types)"
      ]
    },
    {
      "cell_type": "code",
      "execution_count": 23,
      "id": "644386a3-0af9-4f83-9d33-45d2aaf3139b",
      "metadata": {
        "id": "644386a3-0af9-4f83-9d33-45d2aaf3139b"
      },
      "outputs": [],
      "source": [
        "# 6. Declare a list variable named it_companies and assign initial values\n",
        "# Facebook, Google, Microsoft, Apple, IBM, Oracle and Amazon.\n",
        "it_companies = ['Facebook','Google', 'Microsoft', 'Apple', 'IBM', 'Oracle', 'Amazon' ]"
      ]
    },
    {
      "cell_type": "code",
      "execution_count": 24,
      "id": "18ef3cfe-cb3c-4a61-a7d8-86ac05f64665",
      "metadata": {
        "colab": {
          "base_uri": "https://localhost:8080/"
        },
        "id": "18ef3cfe-cb3c-4a61-a7d8-86ac05f64665",
        "outputId": "99133064-500a-447c-efc5-d62eada554aa"
      },
      "outputs": [
        {
          "output_type": "stream",
          "name": "stdout",
          "text": [
            "['Facebook', 'Google', 'Microsoft', 'Apple', 'IBM', 'Oracle', 'Amazon']\n"
          ]
        }
      ],
      "source": [
        "#7. Print the list using print()\n",
        "print(it_companies)"
      ]
    },
    {
      "cell_type": "code",
      "execution_count": 25,
      "id": "7d19c4a6-8ab2-4fcc-9d05-68372b48c9db",
      "metadata": {
        "colab": {
          "base_uri": "https://localhost:8080/"
        },
        "id": "7d19c4a6-8ab2-4fcc-9d05-68372b48c9db",
        "outputId": "29642e1d-097c-45bc-acb6-aecc1bc7609c"
      },
      "outputs": [
        {
          "output_type": "stream",
          "name": "stdout",
          "text": [
            "Length of it_companies: 7\n"
          ]
        }
      ],
      "source": [
        "# 8. Print the number of companies in the list\n",
        "print(\"Length of it_companies:\",len(it_companies))"
      ]
    },
    {
      "cell_type": "code",
      "execution_count": 26,
      "id": "0d146e56-a243-4326-9438-00c0930de807",
      "metadata": {
        "colab": {
          "base_uri": "https://localhost:8080/"
        },
        "id": "0d146e56-a243-4326-9438-00c0930de807",
        "outputId": "567963c1-87f1-4ff7-8c5c-16ce6d77dada"
      },
      "outputs": [
        {
          "output_type": "stream",
          "name": "stdout",
          "text": [
            "First company: Facebook ,Middle company: Apple ,Last company: Amazon\n"
          ]
        }
      ],
      "source": [
        "# 9. Print the first, middle and last company\n",
        "print(\"First company:\",it_companies[0],\",Middle company:\",it_companies[len(it_companies)//2],\",Last company:\",it_companies[-1])"
      ]
    },
    {
      "cell_type": "code",
      "execution_count": 27,
      "id": "4e833417-fb8f-473e-8459-3b0256a2ffd9",
      "metadata": {
        "id": "4e833417-fb8f-473e-8459-3b0256a2ffd9",
        "colab": {
          "base_uri": "https://localhost:8080/"
        },
        "outputId": "386a0d0f-e33b-4746-9191-041d4bbdf016"
      },
      "outputs": [
        {
          "output_type": "stream",
          "name": "stdout",
          "text": [
            "['Facebook', 'Google', 'Microsoft', 'Apple', 'IBM', 'Nvidia', 'Amazon']\n"
          ]
        }
      ],
      "source": [
        "# 10. Print the list after modifying one of the companies\n",
        "it_companies[5] = 'Nvidia'\n",
        "print(it_companies)"
      ]
    },
    {
      "cell_type": "code",
      "execution_count": 28,
      "id": "5f489b23-42cc-4157-b89e-e62d1ff742f9",
      "metadata": {
        "id": "5f489b23-42cc-4157-b89e-e62d1ff742f9",
        "colab": {
          "base_uri": "https://localhost:8080/"
        },
        "outputId": "ab8b080a-2821-4b70-a877-329f11bc402e"
      },
      "outputs": [
        {
          "output_type": "stream",
          "name": "stdout",
          "text": [
            "['Facebook', 'Google', 'Microsoft', 'Apple', 'IBM', 'Nvidia', 'Amazon', 'Oracle']\n"
          ]
        }
      ],
      "source": [
        "# 11. Add an IT company to it_companies\n",
        "it_companies.append('Oracle')\n",
        "print(it_companies)"
      ]
    },
    {
      "cell_type": "code",
      "execution_count": 29,
      "id": "61a14d8e-3d31-4d54-927d-6bf5db4a7f93",
      "metadata": {
        "id": "61a14d8e-3d31-4d54-927d-6bf5db4a7f93",
        "colab": {
          "base_uri": "https://localhost:8080/"
        },
        "outputId": "2309c5cf-84b0-42db-8e9e-7ce911b15083"
      },
      "outputs": [
        {
          "output_type": "stream",
          "name": "stdout",
          "text": [
            "Length of it_companies: 8\n",
            "['Facebook', 'Google', 'Microsoft', 'Apple', 'TCS', 'IBM', 'Nvidia', 'Amazon', 'Oracle']\n"
          ]
        }
      ],
      "source": [
        "# 12. Insert an IT company in the middle of the companies list\n",
        "print(\"Length of it_companies:\",len(it_companies))\n",
        "it_companies.insert(4,'TCS')\n",
        "print(it_companies)"
      ]
    },
    {
      "cell_type": "code",
      "execution_count": 30,
      "id": "31c074f6-9898-497e-8e74-14fcfcbee970",
      "metadata": {
        "id": "31c074f6-9898-497e-8e74-14fcfcbee970",
        "colab": {
          "base_uri": "https://localhost:8080/"
        },
        "outputId": "0c720dad-6e7a-451e-ce13-fd003c488248"
      },
      "outputs": [
        {
          "output_type": "stream",
          "name": "stdout",
          "text": [
            "['Facebook', 'GOOGLE', 'Microsoft', 'Apple', 'TCS', 'IBM', 'Nvidia', 'Amazon', 'Oracle']\n"
          ]
        }
      ],
      "source": [
        "# 13. Change one of the it_companies names to uppercase (IBM excluded!)\n",
        "it_companies[1] = it_companies[1].upper()\n",
        "print(it_companies)"
      ]
    },
    {
      "cell_type": "code",
      "execution_count": 31,
      "id": "b83a8bf9-1294-46dd-a50a-770927a9a936",
      "metadata": {
        "id": "b83a8bf9-1294-46dd-a50a-770927a9a936",
        "colab": {
          "base_uri": "https://localhost:8080/"
        },
        "outputId": "963c96ee-870c-41df-b2c6-0b4e44051d24"
      },
      "outputs": [
        {
          "output_type": "stream",
          "name": "stdout",
          "text": [
            "Facebook#,GOOGLE#,Microsoft#,Apple#,TCS#,IBM#,Nvidia#,Amazon#,Oracle\n"
          ]
        }
      ],
      "source": [
        "# 14. Join the it_companies with a string '#;  '\n",
        "new_list = '#,'.join(it_companies)\n",
        "print(new_list)"
      ]
    },
    {
      "cell_type": "code",
      "execution_count": 32,
      "id": "4d802201-c446-4046-a6b6-233db777fc23",
      "metadata": {
        "id": "4d802201-c446-4046-a6b6-233db777fc23",
        "colab": {
          "base_uri": "https://localhost:8080/"
        },
        "outputId": "b401a821-4410-416b-a1ee-50565cdd3f6c"
      },
      "outputs": [
        {
          "output_type": "stream",
          "name": "stdout",
          "text": [
            "False\n"
          ]
        }
      ],
      "source": [
        "# 15. Check if a certain company exists in the it_companies list.\n",
        "print('Wipro' in it_companies)"
      ]
    },
    {
      "cell_type": "code",
      "execution_count": 33,
      "id": "314aee47-adca-4c4e-b8c7-8185cc8e1fd7",
      "metadata": {
        "id": "314aee47-adca-4c4e-b8c7-8185cc8e1fd7",
        "colab": {
          "base_uri": "https://localhost:8080/"
        },
        "outputId": "78eca888-4d3d-4f46-8b9f-ccc8e8142aa7"
      },
      "outputs": [
        {
          "output_type": "stream",
          "name": "stdout",
          "text": [
            "['Amazon', 'Apple', 'Facebook', 'GOOGLE', 'IBM', 'Microsoft', 'Nvidia', 'Oracle', 'TCS']\n"
          ]
        }
      ],
      "source": [
        "# 16. Sort the list using sort() method\n",
        "it_companies.sort()\n",
        "print(it_companies)"
      ]
    },
    {
      "cell_type": "code",
      "execution_count": 34,
      "id": "a95fb5fd-8797-4cd5-ba17-215f0e5d2946",
      "metadata": {
        "id": "a95fb5fd-8797-4cd5-ba17-215f0e5d2946",
        "colab": {
          "base_uri": "https://localhost:8080/"
        },
        "outputId": "1375dbe1-9275-4008-a94b-9c19801012b6"
      },
      "outputs": [
        {
          "output_type": "stream",
          "name": "stdout",
          "text": [
            "['TCS', 'Oracle', 'Nvidia', 'Microsoft', 'IBM', 'GOOGLE', 'Facebook', 'Apple', 'Amazon']\n"
          ]
        }
      ],
      "source": [
        "# 17. Reverse the list in descending order using reverse() method\n",
        "it_companies.reverse()\n",
        "print(it_companies)"
      ]
    },
    {
      "cell_type": "code",
      "execution_count": 35,
      "id": "0d3fd2d7-37e4-41e1-92cd-36fb3456f5ee",
      "metadata": {
        "id": "0d3fd2d7-37e4-41e1-92cd-36fb3456f5ee",
        "colab": {
          "base_uri": "https://localhost:8080/"
        },
        "outputId": "2db9ecb7-93bd-4e8a-bd6d-5fa1a8c6147c"
      },
      "outputs": [
        {
          "output_type": "stream",
          "name": "stdout",
          "text": [
            "First 3 companies: ['TCS', 'Oracle', 'Nvidia']\n"
          ]
        }
      ],
      "source": [
        "# 18. Slice out the first 3 companies from the list\n",
        "print(\"First 3 companies:\",it_companies[:3])"
      ]
    },
    {
      "cell_type": "code",
      "execution_count": 36,
      "id": "ecba15b6-2f59-4632-8b4a-67545f5761dd",
      "metadata": {
        "id": "ecba15b6-2f59-4632-8b4a-67545f5761dd",
        "colab": {
          "base_uri": "https://localhost:8080/"
        },
        "outputId": "f9e0f620-783a-41b9-da65-57e7ebd65e56"
      },
      "outputs": [
        {
          "output_type": "stream",
          "name": "stdout",
          "text": [
            "Last 3 companies: ['Facebook', 'Apple', 'Amazon']\n"
          ]
        }
      ],
      "source": [
        "# 19. Slice out the last 3 companies from the list\n",
        "print(\"Last 3 companies:\",it_companies[-3:])"
      ]
    },
    {
      "cell_type": "code",
      "execution_count": 37,
      "id": "189ba7e4-c6f1-4f25-b978-39d66e0ce7f8",
      "metadata": {
        "id": "189ba7e4-c6f1-4f25-b978-39d66e0ce7f8",
        "colab": {
          "base_uri": "https://localhost:8080/"
        },
        "outputId": "ecbb7b2d-16d1-4909-ecf8-00399517f72e"
      },
      "outputs": [
        {
          "output_type": "stream",
          "name": "stdout",
          "text": [
            "Middle company: IBM\n"
          ]
        }
      ],
      "source": [
        "# 20. Slice out the middle IT company or companies from the list\n",
        "print(\"Middle company:\",it_companies[len(it_companies)//2])"
      ]
    },
    {
      "cell_type": "code",
      "execution_count": 38,
      "id": "f08fe2ae-89f7-43b5-94f2-d4df57ec8ddd",
      "metadata": {
        "id": "f08fe2ae-89f7-43b5-94f2-d4df57ec8ddd",
        "colab": {
          "base_uri": "https://localhost:8080/"
        },
        "outputId": "539b80ec-3dd2-450a-de83-1d7d90cda696"
      },
      "outputs": [
        {
          "output_type": "stream",
          "name": "stdout",
          "text": [
            "['Oracle', 'Nvidia', 'Microsoft', 'IBM', 'GOOGLE', 'Facebook', 'Apple', 'Amazon']\n"
          ]
        }
      ],
      "source": [
        "# 21. Remove the first IT company from the list\n",
        "it_companies.pop(0)\n",
        "print(it_companies)"
      ]
    },
    {
      "cell_type": "code",
      "execution_count": 39,
      "id": "a06e1918-dfac-4be1-9aea-faab50101878",
      "metadata": {
        "id": "a06e1918-dfac-4be1-9aea-faab50101878",
        "colab": {
          "base_uri": "https://localhost:8080/"
        },
        "outputId": "2ac00049-6f9c-408d-b29f-65abb9d6490a"
      },
      "outputs": [
        {
          "output_type": "stream",
          "name": "stdout",
          "text": [
            "['Oracle', 'Nvidia', 'Microsoft', 'Facebook', 'Apple', 'Amazon']\n"
          ]
        }
      ],
      "source": [
        "# 22. Remove the middle IT company or companies from the list\n",
        "del it_companies[3:5]\n",
        "print(it_companies)"
      ]
    },
    {
      "cell_type": "code",
      "execution_count": 40,
      "id": "ad8da79d-0d3e-4028-89d7-0e44f7921bbe",
      "metadata": {
        "id": "ad8da79d-0d3e-4028-89d7-0e44f7921bbe",
        "colab": {
          "base_uri": "https://localhost:8080/"
        },
        "outputId": "02b537b4-57b8-42fd-ebe4-24ba3fa150ee"
      },
      "outputs": [
        {
          "output_type": "stream",
          "name": "stdout",
          "text": [
            "['Oracle', 'Nvidia', 'Microsoft', 'Facebook', 'Apple']\n"
          ]
        }
      ],
      "source": [
        "# 23. Remove the last IT company from the list\n",
        "it_companies.pop(-1)\n",
        "print(it_companies)"
      ]
    },
    {
      "cell_type": "code",
      "execution_count": 41,
      "id": "75a4e29f-3d99-46d8-874a-7dfdb322f0b1",
      "metadata": {
        "id": "75a4e29f-3d99-46d8-874a-7dfdb322f0b1"
      },
      "outputs": [],
      "source": [
        "# 24. Remove all IT companies from the list\n",
        "it_companies.clear()"
      ]
    },
    {
      "cell_type": "code",
      "execution_count": 42,
      "id": "ead6d534-e733-465b-942f-bad54efa4b0e",
      "metadata": {
        "id": "ead6d534-e733-465b-942f-bad54efa4b0e",
        "colab": {
          "base_uri": "https://localhost:8080/",
          "height": 176
        },
        "outputId": "7fb83df0-01e8-4af1-bb5b-f9e4d881b10a"
      },
      "outputs": [
        {
          "output_type": "error",
          "ename": "NameError",
          "evalue": "name 'it_companies' is not defined",
          "traceback": [
            "\u001b[0;31m---------------------------------------------------------------------------\u001b[0m",
            "\u001b[0;31mNameError\u001b[0m                                 Traceback (most recent call last)",
            "\u001b[0;32m/tmp/ipython-input-2043328244.py\u001b[0m in \u001b[0;36m<cell line: 0>\u001b[0;34m()\u001b[0m\n\u001b[1;32m      1\u001b[0m \u001b[0;31m# 25. Destroy the IT companies list\u001b[0m\u001b[0;34m\u001b[0m\u001b[0;34m\u001b[0m\u001b[0m\n\u001b[1;32m      2\u001b[0m \u001b[0;32mdel\u001b[0m \u001b[0mit_companies\u001b[0m\u001b[0;34m\u001b[0m\u001b[0;34m\u001b[0m\u001b[0m\n\u001b[0;32m----> 3\u001b[0;31m \u001b[0mprint\u001b[0m\u001b[0;34m(\u001b[0m\u001b[0mit_companies\u001b[0m\u001b[0;34m)\u001b[0m\u001b[0;34m\u001b[0m\u001b[0;34m\u001b[0m\u001b[0m\n\u001b[0m",
            "\u001b[0;31mNameError\u001b[0m: name 'it_companies' is not defined"
          ]
        }
      ],
      "source": [
        "# 25. Destroy the IT companies list\n",
        "del it_companies\n",
        "print(it_companies)"
      ]
    },
    {
      "cell_type": "code",
      "execution_count": 43,
      "id": "16fbc7a5-14b8-4388-9df0-4922ff5231ca",
      "metadata": {
        "id": "16fbc7a5-14b8-4388-9df0-4922ff5231ca",
        "colab": {
          "base_uri": "https://localhost:8080/"
        },
        "outputId": "655ca373-7487-4363-92b6-d8528e8aa99b"
      },
      "outputs": [
        {
          "output_type": "stream",
          "name": "stdout",
          "text": [
            "['HTML', 'CSS', 'JS', 'React', 'Redux', 'Node', 'Express', 'MongoDB']\n"
          ]
        }
      ],
      "source": [
        "# 26. Join the following lists:\n",
        "# front_end = ['HTML', 'CSS', 'JS', 'React', 'Redux']\n",
        "# back_end = ['Node','Express', 'MongoDB']\n",
        "front_end = ['HTML', 'CSS', 'JS', 'React', 'Redux']\n",
        "back_end = ['Node','Express', 'MongoDB']\n",
        "new_list = front_end + back_end\n",
        "print(new_list)"
      ]
    },
    {
      "cell_type": "code",
      "execution_count": 44,
      "id": "02cf8864-25b0-42bd-bfbf-53c1e38dcf41",
      "metadata": {
        "id": "02cf8864-25b0-42bd-bfbf-53c1e38dcf41",
        "colab": {
          "base_uri": "https://localhost:8080/"
        },
        "outputId": "442da020-3a3c-4341-df00-0a324ec8e54d"
      },
      "outputs": [
        {
          "output_type": "stream",
          "name": "stdout",
          "text": [
            "['HTML', 'CSS', 'JS', 'React', 'Redux', 'Python', 'SQL', 'Node', 'Express', 'MongoDB']\n"
          ]
        }
      ],
      "source": [
        "# 27. After joining the lists in question 26. Copy the joined list and assign it to a\n",
        "# variable full_stack, then insert Python and SQL after Redux.\n",
        "full_stack = new_list.copy()\n",
        "full_stack.insert(5,'Python')\n",
        "full_stack.insert(6,'SQL')\n",
        "print(full_stack)"
      ]
    },
    {
      "cell_type": "code",
      "source": [
        "print(new_list)"
      ],
      "metadata": {
        "colab": {
          "base_uri": "https://localhost:8080/"
        },
        "id": "PTVcJodAP38Y",
        "outputId": "3710245d-a253-4cf9-ae92-e13ae95aa8bd"
      },
      "id": "PTVcJodAP38Y",
      "execution_count": 45,
      "outputs": [
        {
          "output_type": "stream",
          "name": "stdout",
          "text": [
            "['HTML', 'CSS', 'JS', 'React', 'Redux', 'Node', 'Express', 'MongoDB']\n"
          ]
        }
      ]
    },
    {
      "cell_type": "markdown",
      "id": "2aebfb74-bcd3-4298-af1b-22f50e3e4e0b",
      "metadata": {
        "id": "2aebfb74-bcd3-4298-af1b-22f50e3e4e0b"
      },
      "source": [
        "#Second Set Assignment"
      ]
    },
    {
      "cell_type": "markdown",
      "id": "721c5cbb-e13b-46ee-a515-8d117b29f18e",
      "metadata": {
        "id": "721c5cbb-e13b-46ee-a515-8d117b29f18e"
      },
      "source": [
        "The following is a list of 10 students ages:\n",
        "ages = [19, 22, 19, 24, 20, 25, 26, 24, 25, 24]"
      ]
    },
    {
      "cell_type": "code",
      "execution_count": null,
      "id": "dd4ae415-b498-4f6d-8f23-3ca39f589cbf",
      "metadata": {
        "id": "dd4ae415-b498-4f6d-8f23-3ca39f589cbf",
        "colab": {
          "base_uri": "https://localhost:8080/"
        },
        "outputId": "1e334654-a35f-4067-83fd-b53fae7c0761"
      },
      "outputs": [
        {
          "output_type": "stream",
          "name": "stdout",
          "text": [
            "Sorted age list: [19, 19, 20, 22, 24, 24, 24, 25, 25, 26]\n",
            "Min age: 19\n",
            "Max age: 26\n"
          ]
        }
      ],
      "source": [
        "# Sort the list and find the min and max age\n",
        "ages = [19, 22, 19, 24, 20, 25, 26, 24, 25, 24]\n",
        "ages.sort()\n",
        "print(\"Sorted age list:\",ages)\n",
        "min_age = min(ages)\n",
        "print(\"Min age:\",min_age)\n",
        "max_age = max(ages)\n",
        "print(\"Max age:\",max_age)"
      ]
    },
    {
      "cell_type": "code",
      "execution_count": null,
      "id": "200adfd6-3cd7-4a06-908a-7fb883b18409",
      "metadata": {
        "id": "200adfd6-3cd7-4a06-908a-7fb883b18409",
        "colab": {
          "base_uri": "https://localhost:8080/"
        },
        "outputId": "ab0a0685-f2d1-4d28-ae65-f799c4fbbf76"
      },
      "outputs": [
        {
          "output_type": "execute_result",
          "data": {
            "text/plain": [
              "[19, 19, 20, 22, 24, 24, 24, 25, 25, 26, 19, 26]"
            ]
          },
          "metadata": {},
          "execution_count": 3
        }
      ],
      "source": [
        "# Add the min age and the max age again to the list\n",
        "ages.extend([min_age, max_age])\n",
        "ages"
      ]
    },
    {
      "cell_type": "code",
      "execution_count": null,
      "id": "59ec9452-ee61-4ec4-941c-9bd9f61c45ac",
      "metadata": {
        "id": "59ec9452-ee61-4ec4-941c-9bd9f61c45ac",
        "colab": {
          "base_uri": "https://localhost:8080/"
        },
        "outputId": "e5bb1338-8082-4438-cb23-22667893bc34"
      },
      "outputs": [
        {
          "output_type": "stream",
          "name": "stdout",
          "text": [
            "Median is 24\n"
          ]
        }
      ],
      "source": [
        "# Find the median age (one middle item or two middle items divided by two)\n",
        "ages.sort()\n",
        "n = len(ages)\n",
        "if n % 2 == 0:\n",
        "  median = (ages[n//2] + ages[n//2 + 1]) // 2\n",
        "else:\n",
        "  median = ages[n//2]\n",
        "print(\"Median is\",median)"
      ]
    },
    {
      "cell_type": "code",
      "execution_count": null,
      "id": "f55f973e-f02c-4806-b4f7-4ebb30256523",
      "metadata": {
        "id": "f55f973e-f02c-4806-b4f7-4ebb30256523",
        "colab": {
          "base_uri": "https://localhost:8080/"
        },
        "outputId": "65b75516-8f17-4705-ad39-069bfb3eeff8"
      },
      "outputs": [
        {
          "output_type": "stream",
          "name": "stdout",
          "text": [
            "Average of age is 22.75\n"
          ]
        }
      ],
      "source": [
        "# Find the average age (sum of all items divided by their number )\n",
        "sum = 0\n",
        "for i in ages:\n",
        "    sum = sum + i\n",
        "avg_age = sum / len(ages)\n",
        "print(\"Average of age is\",avg_age)"
      ]
    },
    {
      "cell_type": "code",
      "execution_count": null,
      "id": "b1cc3a2d-eecc-430e-b210-9605ec042cd0",
      "metadata": {
        "id": "b1cc3a2d-eecc-430e-b210-9605ec042cd0",
        "colab": {
          "base_uri": "https://localhost:8080/"
        },
        "outputId": "a140600e-f272-4aec-d0d9-0ae2ae9abea2"
      },
      "outputs": [
        {
          "output_type": "stream",
          "name": "stdout",
          "text": [
            "Range of the ages is 7\n"
          ]
        }
      ],
      "source": [
        "# Find the range of the ages (max minus min)\n",
        "range = max(ages) - min(ages)\n",
        "print(\"Range of the ages is\",range)"
      ]
    },
    {
      "cell_type": "code",
      "execution_count": null,
      "id": "ebd8f1f3-7051-453b-9de0-202c7054a7fb",
      "metadata": {
        "id": "ebd8f1f3-7051-453b-9de0-202c7054a7fb",
        "colab": {
          "base_uri": "https://localhost:8080/"
        },
        "outputId": "4d7bf16d-92a5-466e-a90c-ebd681128622"
      },
      "outputs": [
        {
          "output_type": "stream",
          "name": "stdout",
          "text": [
            "(min - average) is 3.75\n",
            "(max - average) is 3.25\n"
          ]
        }
      ],
      "source": [
        "# Compare the value of (min - average) and (max - average), use abs() method\n",
        "print(\"(min - average) is\",abs(min(ages)- avg_age))\n",
        "print(\"(max - average) is\",abs(max(ages)- avg_age))"
      ]
    },
    {
      "cell_type": "code",
      "execution_count": null,
      "id": "248391f0-f822-40a3-b15c-79ce28b3abdf",
      "metadata": {
        "id": "248391f0-f822-40a3-b15c-79ce28b3abdf",
        "colab": {
          "base_uri": "https://localhost:8080/",
          "height": 36
        },
        "outputId": "3e73d43c-a81a-4dbb-9542-aff72acba7b7"
      },
      "outputs": [
        {
          "output_type": "execute_result",
          "data": {
            "text/plain": [
              "'Finland'"
            ],
            "application/vnd.google.colaboratory.intrinsic+json": {
              "type": "string"
            }
          },
          "metadata": {},
          "execution_count": 33
        }
      ],
      "source": [
        "# Find the middle country(ies) in the countries list\n",
        "countries = ['China', 'Russia', 'USA', 'Finland', 'Sweden', 'Norway', 'Denmark']\n",
        "countries[len(countries)//2]"
      ]
    },
    {
      "cell_type": "code",
      "execution_count": null,
      "id": "450b75c9-6cd9-4cc0-9fb8-fde52c6de453",
      "metadata": {
        "id": "450b75c9-6cd9-4cc0-9fb8-fde52c6de453",
        "colab": {
          "base_uri": "https://localhost:8080/"
        },
        "outputId": "d9ac27c0-5729-4566-b63c-3a3fadc5b1a3"
      },
      "outputs": [
        {
          "output_type": "stream",
          "name": "stdout",
          "text": [
            "['China', 'Russia', 'USA', 'Finland']\n",
            "['Sweden', 'Norway', 'Denmark', 'India']\n"
          ]
        }
      ],
      "source": [
        "# Divide the countries list into two equal lists if it is even if not one more country for the first half.\n",
        "countries = ['China', 'Russia', 'USA', 'Finland', 'Sweden', 'Norway', 'Denmark','India']\n",
        "print(countries[0:4])\n",
        "print(countries[4:9])"
      ]
    },
    {
      "cell_type": "code",
      "execution_count": 46,
      "id": "f271cd7c-dd09-4eb8-9226-da68d5a289b2",
      "metadata": {
        "id": "f271cd7c-dd09-4eb8-9226-da68d5a289b2",
        "colab": {
          "base_uri": "https://localhost:8080/"
        },
        "outputId": "496f2650-2a1f-499b-e836-1d9be4fb5528"
      },
      "outputs": [
        {
          "output_type": "stream",
          "name": "stdout",
          "text": [
            "China\n",
            "Russia\n",
            "USA\n",
            "Scandic countries: ['Finland', 'Sweden', 'Norway', 'Denmark']\n"
          ]
        }
      ],
      "source": [
        "# ['China', 'Russia', 'USA', 'Finland', 'Sweden', 'Norway', 'Denmark']. Unpack the\n",
        "# first three countries and the rest as scandic countries.\n",
        "countries = ['China', 'Russia', 'USA', 'Finland', 'Sweden', 'Norway', 'Denmark']\n",
        "first_country, second_country, third_country = countries[0:3]\n",
        "print(first_country)\n",
        "print(second_country)\n",
        "print(third_country)\n",
        "scandic_countries = countries[3:]\n",
        "print(\"Scandic countries:\",scandic_countries)"
      ]
    }
  ],
  "metadata": {
    "kernelspec": {
      "display_name": "Python 3 (ipykernel)",
      "language": "python",
      "name": "python3"
    },
    "language_info": {
      "codemirror_mode": {
        "name": "ipython",
        "version": 3
      },
      "file_extension": ".py",
      "mimetype": "text/x-python",
      "name": "python",
      "nbconvert_exporter": "python",
      "pygments_lexer": "ipython3",
      "version": "3.12.7"
    },
    "colab": {
      "provenance": []
    }
  },
  "nbformat": 4,
  "nbformat_minor": 5
}