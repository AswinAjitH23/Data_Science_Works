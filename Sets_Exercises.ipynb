{
  "cells": [
    {
      "cell_type": "markdown",
      "id": "c354fdc5-828f-4a72-84a4-38c03a49d641",
      "metadata": {
        "id": "c354fdc5-828f-4a72-84a4-38c03a49d641"
      },
      "source": [
        "### Sets - Exercises"
      ]
    },
    {
      "cell_type": "code",
      "execution_count": 2,
      "id": "0a7b0030-0947-4a39-ad5b-6ede9763ce8e",
      "metadata": {
        "id": "0a7b0030-0947-4a39-ad5b-6ede9763ce8e"
      },
      "outputs": [],
      "source": [
        "it_companies = {'Facebook', 'Google', 'Microsoft', 'Apple', 'IBM', 'Oracle', 'Amazon'}\n",
        "A = {19, 22, 24, 20, 25, 26}\n",
        "B = {19, 22, 20, 25, 26, 24, 28, 27}\n",
        "age = [22, 19, 24, 25, 26, 24, 25, 24]"
      ]
    },
    {
      "cell_type": "code",
      "execution_count": 3,
      "id": "9906cb71-e6aa-4900-aa6d-060fc0ee0d3b",
      "metadata": {
        "colab": {
          "base_uri": "https://localhost:8080/"
        },
        "id": "9906cb71-e6aa-4900-aa6d-060fc0ee0d3b",
        "outputId": "81587133-7386-44f2-d32c-c6ff7b8d1b53"
      },
      "outputs": [
        {
          "output_type": "stream",
          "name": "stdout",
          "text": [
            "Length of it_companies: 7\n"
          ]
        }
      ],
      "source": [
        "# 1. Find the length of the set it_companies\n",
        "print(\"Length of it_companies:\",len(it_companies))"
      ]
    },
    {
      "cell_type": "code",
      "execution_count": 4,
      "id": "ca13f143-4eae-4a53-87ad-ba060516ac3c",
      "metadata": {
        "colab": {
          "base_uri": "https://localhost:8080/"
        },
        "id": "ca13f143-4eae-4a53-87ad-ba060516ac3c",
        "outputId": "7250abc1-d024-48e7-9d98-3ce249bb3c44"
      },
      "outputs": [
        {
          "output_type": "stream",
          "name": "stdout",
          "text": [
            "{'Apple', 'Amazon', 'Oracle', 'Microsoft', 'Facebook', 'Twitter', 'Google', 'IBM'}\n"
          ]
        }
      ],
      "source": [
        "# 2.Add 'Twitter' to it_companies\n",
        "it_companies.add('Twitter')\n",
        "print(it_companies)"
      ]
    },
    {
      "cell_type": "code",
      "execution_count": 7,
      "id": "4d9edee2-9b1e-45a0-b333-0044aa4beca0",
      "metadata": {
        "colab": {
          "base_uri": "https://localhost:8080/"
        },
        "id": "4d9edee2-9b1e-45a0-b333-0044aa4beca0",
        "outputId": "94cfcf9d-70f8-4d25-989e-0dfa899705f2"
      },
      "outputs": [
        {
          "output_type": "stream",
          "name": "stdout",
          "text": [
            "{'Oracle', 'Infosys', 'Microsoft', 'Twitter', 'Google', 'IBM', 'Nvidia', 'Amazon', 'TCS', 'Apple', 'Facebook'}\n"
          ]
        }
      ],
      "source": [
        "# 3. Insert multiple IT companies at once to the set it_companies\n",
        "it_companies.update(['Nvidia','TCS','Infosys'])\n",
        "print(it_companies)"
      ]
    },
    {
      "cell_type": "code",
      "execution_count": 8,
      "id": "f23cf746-eb1e-4979-aced-0eda9f29ada8",
      "metadata": {
        "id": "f23cf746-eb1e-4979-aced-0eda9f29ada8",
        "colab": {
          "base_uri": "https://localhost:8080/"
        },
        "outputId": "180a1bc9-f6ea-46e5-a6a1-5afc10d377c4"
      },
      "outputs": [
        {
          "output_type": "stream",
          "name": "stdout",
          "text": [
            "{'Oracle', 'Infosys', 'Microsoft', 'Twitter', 'Google', 'IBM', 'Nvidia', 'Amazon', 'Apple', 'Facebook'}\n"
          ]
        }
      ],
      "source": [
        "# 4. Remove one of the companies from the set it_companies\n",
        "it_companies.remove('TCS')\n",
        "print(it_companies)"
      ]
    },
    {
      "cell_type": "code",
      "execution_count": null,
      "id": "0b0f20c8-3710-4cb5-83f0-a25a583dd639",
      "metadata": {
        "id": "0b0f20c8-3710-4cb5-83f0-a25a583dd639"
      },
      "outputs": [],
      "source": [
        "# 5. What is the difference between remove and discard\n",
        "# Both discard() and remove() removes the element but in remove() if the element is not present it shows error by saying the element is not present and in discard() it will not show error even the element is not present."
      ]
    },
    {
      "cell_type": "code",
      "execution_count": null,
      "id": "6f236ee3-0fed-481d-8653-7cb0a5383ef2",
      "metadata": {
        "colab": {
          "base_uri": "https://localhost:8080/"
        },
        "id": "6f236ee3-0fed-481d-8653-7cb0a5383ef2",
        "outputId": "60102cdd-cda5-45fe-a7bd-95e16392fc49"
      },
      "outputs": [
        {
          "output_type": "execute_result",
          "data": {
            "text/plain": [
              "{19, 20, 22, 24, 25, 26, 27, 28}"
            ]
          },
          "metadata": {},
          "execution_count": 12
        }
      ],
      "source": [
        "# 6. Join A and B\n",
        "A | B\n",
        "# A.union(B)"
      ]
    },
    {
      "cell_type": "code",
      "execution_count": null,
      "id": "ddd10b0d-0a61-438e-a251-c2461584be36",
      "metadata": {
        "colab": {
          "base_uri": "https://localhost:8080/"
        },
        "id": "ddd10b0d-0a61-438e-a251-c2461584be36",
        "outputId": "fea57035-e340-4015-86bb-769186e5c1f8"
      },
      "outputs": [
        {
          "output_type": "execute_result",
          "data": {
            "text/plain": [
              "{19, 20, 22, 24, 25, 26}"
            ]
          },
          "metadata": {},
          "execution_count": 13
        }
      ],
      "source": [
        "# 7. Find A intersection B\n",
        "A & B"
      ]
    },
    {
      "cell_type": "code",
      "execution_count": null,
      "id": "5bf01c41-c3fa-4603-a30f-060d972fca88",
      "metadata": {
        "colab": {
          "base_uri": "https://localhost:8080/"
        },
        "id": "5bf01c41-c3fa-4603-a30f-060d972fca88",
        "outputId": "4f499f03-2af4-479b-fdf1-2d11fef7d6c9"
      },
      "outputs": [
        {
          "output_type": "stream",
          "name": "stdout",
          "text": [
            "True\n"
          ]
        }
      ],
      "source": [
        "# 8. Is A subset of B\n",
        "print(A.issubset(B))"
      ]
    },
    {
      "cell_type": "code",
      "execution_count": null,
      "id": "ef1dae52-491d-413d-a73c-c750dd394a4a",
      "metadata": {
        "colab": {
          "base_uri": "https://localhost:8080/"
        },
        "id": "ef1dae52-491d-413d-a73c-c750dd394a4a",
        "outputId": "f696028c-d09c-4c94-b5dc-ffddd5f72e5d"
      },
      "outputs": [
        {
          "output_type": "stream",
          "name": "stdout",
          "text": [
            "False\n"
          ]
        }
      ],
      "source": [
        "# 9. Are A and B disjoint sets\n",
        "print(A.isdisjoint(B))"
      ]
    },
    {
      "cell_type": "code",
      "execution_count": null,
      "id": "2906a6f5-2583-49fe-8c60-f2528eda9c44",
      "metadata": {
        "colab": {
          "base_uri": "https://localhost:8080/"
        },
        "id": "2906a6f5-2583-49fe-8c60-f2528eda9c44",
        "outputId": "a7e12101-0f4f-4677-c12b-3b2aa9f45a1f"
      },
      "outputs": [
        {
          "output_type": "stream",
          "name": "stdout",
          "text": [
            "Join A with B {19, 20, 22, 24, 25, 26, 27, 28}\n",
            "Join B with A {19, 20, 22, 24, 25, 26, 27, 28}\n"
          ]
        }
      ],
      "source": [
        "# 10. Join A with B and B with A\n",
        "print(\"Join A with B\",A | B)\n",
        "print(\"Join B with A\",B | A)"
      ]
    },
    {
      "cell_type": "code",
      "execution_count": null,
      "id": "40183476-3374-47d7-857c-070301e00f1c",
      "metadata": {
        "colab": {
          "base_uri": "https://localhost:8080/"
        },
        "id": "40183476-3374-47d7-857c-070301e00f1c",
        "outputId": "6098d744-7591-4cfe-c1b6-bf82641e1556"
      },
      "outputs": [
        {
          "output_type": "stream",
          "name": "stdout",
          "text": [
            "{27, 28}\n"
          ]
        }
      ],
      "source": [
        "# 11. What is the symmetric difference between A and B\n",
        "print(A ^ B)"
      ]
    },
    {
      "cell_type": "code",
      "execution_count": null,
      "id": "13310309-8065-4369-bb0b-9ed7f1f59024",
      "metadata": {
        "id": "13310309-8065-4369-bb0b-9ed7f1f59024"
      },
      "outputs": [],
      "source": [
        " # 12. Delete the sets completely\n",
        " del A"
      ]
    },
    {
      "cell_type": "code",
      "source": [
        "A"
      ],
      "metadata": {
        "colab": {
          "base_uri": "https://localhost:8080/",
          "height": 141
        },
        "id": "r3ywcLls2qGf",
        "outputId": "2aca21c2-4a31-4520-9420-f22fd07b29b4"
      },
      "id": "r3ywcLls2qGf",
      "execution_count": null,
      "outputs": [
        {
          "output_type": "error",
          "ename": "NameError",
          "evalue": "name 'A' is not defined",
          "traceback": [
            "\u001b[0;31m---------------------------------------------------------------------------\u001b[0m",
            "\u001b[0;31mNameError\u001b[0m                                 Traceback (most recent call last)",
            "\u001b[0;32m/tmp/ipython-input-378453753.py\u001b[0m in \u001b[0;36m<cell line: 0>\u001b[0;34m()\u001b[0m\n\u001b[0;32m----> 1\u001b[0;31m \u001b[0mA\u001b[0m\u001b[0;34m\u001b[0m\u001b[0;34m\u001b[0m\u001b[0m\n\u001b[0m",
            "\u001b[0;31mNameError\u001b[0m: name 'A' is not defined"
          ]
        }
      ]
    },
    {
      "cell_type": "code",
      "execution_count": 11,
      "id": "dd5f2b3a-df25-4b26-952d-84439f397d95",
      "metadata": {
        "colab": {
          "base_uri": "https://localhost:8080/"
        },
        "id": "dd5f2b3a-df25-4b26-952d-84439f397d95",
        "outputId": "d0e0ba1e-9c17-40c7-e6e0-2511e7a2e867"
      },
      "outputs": [
        {
          "output_type": "stream",
          "name": "stdout",
          "text": [
            "{19, 22, 24, 25, 26}\n"
          ]
        }
      ],
      "source": [
        "# 13. Convert the ages to a set and compare the length of the list and the set, which one is bigger?\n",
        "list_age = [22, 19, 24, 25, 26, 24, 25, 24]\n",
        "set_age = set(list_age)\n",
        "print(set_age)"
      ]
    },
    {
      "cell_type": "code",
      "source": [
        "if len(set_age) > len(list_age):\n",
        "  print(\"Length of set is bigger\")\n",
        "else:\n",
        "  print(\"Length of list is bigger\")"
      ],
      "metadata": {
        "colab": {
          "base_uri": "https://localhost:8080/"
        },
        "id": "jkJOCM_423KS",
        "outputId": "ddc0104d-9896-467a-b459-bfab9124db34"
      },
      "id": "jkJOCM_423KS",
      "execution_count": 12,
      "outputs": [
        {
          "output_type": "stream",
          "name": "stdout",
          "text": [
            "Length of list is bigger\n"
          ]
        }
      ]
    },
    {
      "cell_type": "code",
      "execution_count": null,
      "id": "62d4bc84-ca64-4ed2-8175-a8cd653eb7cd",
      "metadata": {
        "colab": {
          "base_uri": "https://localhost:8080/"
        },
        "id": "62d4bc84-ca64-4ed2-8175-a8cd653eb7cd",
        "outputId": "5fee1cd8-584b-4016-aeef-9e2722cfc10d"
      },
      "outputs": [
        {
          "output_type": "stream",
          "name": "stdout",
          "text": [
            "Splitted sentence: ['I', 'am', 'a', 'teacher', 'and', 'I', 'love', 'to', 'inspire', 'and', 'teach', 'people.']\n",
            "Unique words: {'a', 'teacher', 'to', 'love', 'am', 'inspire', 'teach', 'and', 'I', 'people.'}\n",
            "No.of Unique words: 10\n"
          ]
        }
      ],
      "source": [
        "# 14. \"I am a teacher and I love to inspire and teach people.\"\n",
        "# How many unique words have been used in the sentence? Use the split methods and set to get the unique words.\n",
        "sentence = \"I am a teacher and I love to inspire and teach people.\"\n",
        "split_sentence = sentence.split()\n",
        "print('Splitted sentence:',split_sentence)\n",
        "print(\"Unique words:\",set(split_sentence))\n",
        "print(\"No.of Unique words:\",len(set(split_sentence)))"
      ]
    },
    {
      "cell_type": "code",
      "execution_count": null,
      "id": "8492f961-62c3-4a75-9f7f-37afa6ba0b36",
      "metadata": {
        "id": "8492f961-62c3-4a75-9f7f-37afa6ba0b36"
      },
      "outputs": [],
      "source": [
        "# 15. Explain the difference between the following data types: string, list, tuple and set\n",
        "# String = immutable, ordered, duplicates, enclosed in \"\" or ''.\n",
        "# List = mutable, ordered, duplicates, multiple data type, enclosed in [].\n",
        "# Tuple = immutable, ordered, duplicates, multiple data type, enclosed in ().\n",
        "# Set = mutable, unordered, no duplicates, multiple data type, enclosed in {}. If we want to create an empty set use set()."
      ]
    },
    {
      "cell_type": "code",
      "source": [],
      "metadata": {
        "id": "q4hY15qG54pT"
      },
      "id": "q4hY15qG54pT",
      "execution_count": null,
      "outputs": []
    }
  ],
  "metadata": {
    "kernelspec": {
      "display_name": "Python 3 (ipykernel)",
      "language": "python",
      "name": "python3"
    },
    "language_info": {
      "codemirror_mode": {
        "name": "ipython",
        "version": 3
      },
      "file_extension": ".py",
      "mimetype": "text/x-python",
      "name": "python",
      "nbconvert_exporter": "python",
      "pygments_lexer": "ipython3",
      "version": "3.12.7"
    },
    "colab": {
      "provenance": []
    }
  },
  "nbformat": 4,
  "nbformat_minor": 5
}