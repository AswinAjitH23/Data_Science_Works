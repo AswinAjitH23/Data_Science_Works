{
  "nbformat": 4,
  "nbformat_minor": 0,
  "metadata": {
    "colab": {
      "provenance": []
    },
    "kernelspec": {
      "name": "python3",
      "display_name": "Python 3"
    },
    "language_info": {
      "name": "python"
    }
  },
  "cells": [
    {
      "cell_type": "markdown",
      "source": [
        "## List"
      ],
      "metadata": {
        "id": "vQaJZyWDNRH0"
      }
    },
    {
      "cell_type": "code",
      "source": [
        "# 1. Declare an empty list\n",
        "empty_list = []\n",
        "print(type(empty_list))"
      ],
      "metadata": {
        "colab": {
          "base_uri": "https://localhost:8080/"
        },
        "id": "PAJ7au7xNQbT",
        "outputId": "9762bb08-4231-40c5-eec6-1322096e5b90"
      },
      "execution_count": 1,
      "outputs": [
        {
          "output_type": "stream",
          "name": "stdout",
          "text": [
            "<class 'list'>\n"
          ]
        }
      ]
    },
    {
      "cell_type": "code",
      "source": [
        "# 2. Declare a list with more than 5 items\n",
        "sample_list = [1234, 'python', 2.3, 1+4j, True, 'list']\n",
        "print(sample_list)"
      ],
      "metadata": {
        "colab": {
          "base_uri": "https://localhost:8080/"
        },
        "id": "tj2ubgiBNhr1",
        "outputId": "217adaed-19be-47d8-99df-c134f06b9063"
      },
      "execution_count": 2,
      "outputs": [
        {
          "output_type": "stream",
          "name": "stdout",
          "text": [
            "[1234, 'python', 2.3, (1+4j), True, 'list']\n"
          ]
        }
      ]
    },
    {
      "cell_type": "code",
      "source": [
        "# 3. Find the length of your list\n",
        "print(\"Length of sample_list:\",len(sample_list))"
      ],
      "metadata": {
        "colab": {
          "base_uri": "https://localhost:8080/"
        },
        "id": "IlwtbEn4Nk1H",
        "outputId": "1c45d5e1-e598-4c11-f3da-097cd328c4e0"
      },
      "execution_count": 3,
      "outputs": [
        {
          "output_type": "stream",
          "name": "stdout",
          "text": [
            "Length of sample_list: 6\n"
          ]
        }
      ]
    },
    {
      "cell_type": "code",
      "source": [
        "# 4.Get the first item, the middle item and the last item of the list\n",
        "print(\"First item:\",sample_list[0],\",Middle item:\",sample_list[len(sample_list)//2],\",Last item:\",sample_list[-1])"
      ],
      "metadata": {
        "colab": {
          "base_uri": "https://localhost:8080/"
        },
        "id": "Q-uW3jeINngL",
        "outputId": "06fb987f-f273-40ff-f972-1cf2f20c8d32"
      },
      "execution_count": 4,
      "outputs": [
        {
          "output_type": "stream",
          "name": "stdout",
          "text": [
            "First item: 1234 ,Middle item: (1+4j) ,Last item: list\n"
          ]
        }
      ]
    },
    {
      "cell_type": "code",
      "source": [
        "# 5.Declare a list called mixed_data_types, put your(name, age, height, marital status, address)\n",
        "mixed_data_types = ['Aswin', 25, 180.00, 'single', 'Naduvilkara']\n",
        "print(mixed_data_types)"
      ],
      "metadata": {
        "colab": {
          "base_uri": "https://localhost:8080/"
        },
        "id": "mGajITShNq7F",
        "outputId": "ea625f08-012b-424a-a6fa-514d4ac98858"
      },
      "execution_count": 5,
      "outputs": [
        {
          "output_type": "stream",
          "name": "stdout",
          "text": [
            "['Aswin', 25, 180.0, 'single', 'Naduvilkara']\n"
          ]
        }
      ]
    },
    {
      "cell_type": "code",
      "source": [
        "# 6. Declare a list variable named it_companies and assign initial values\n",
        "# Facebook, Google, Microsoft, Apple, IBM, Oracle and Amazon.\n",
        "it_companies = ['Facebook','Google', 'Microsoft', 'Apple', 'IBM', 'Oracle', 'Amazon' ]"
      ],
      "metadata": {
        "id": "Rivn2UoxNsWR"
      },
      "execution_count": 6,
      "outputs": []
    },
    {
      "cell_type": "code",
      "source": [
        "#7. Print the list using print()\n",
        "print(it_companies)"
      ],
      "metadata": {
        "colab": {
          "base_uri": "https://localhost:8080/"
        },
        "id": "KFgP-3S3NwHJ",
        "outputId": "9dbfd9bd-c095-455c-a4c0-d8e2895f2fd5"
      },
      "execution_count": 7,
      "outputs": [
        {
          "output_type": "stream",
          "name": "stdout",
          "text": [
            "['Facebook', 'Google', 'Microsoft', 'Apple', 'IBM', 'Oracle', 'Amazon']\n"
          ]
        }
      ]
    },
    {
      "cell_type": "code",
      "source": [
        "# 8. Print the number of companies in the list\n",
        "print(\"Length of it_companies:\",len(it_companies))"
      ],
      "metadata": {
        "colab": {
          "base_uri": "https://localhost:8080/"
        },
        "id": "LXUJ_Ld9Ny9a",
        "outputId": "9d797542-4a3b-48d7-88d8-5b567402d0f6"
      },
      "execution_count": 8,
      "outputs": [
        {
          "output_type": "stream",
          "name": "stdout",
          "text": [
            "Length of it_companies: 7\n"
          ]
        }
      ]
    },
    {
      "cell_type": "code",
      "source": [
        "# 9. Print the first, middle and last company\n",
        "print(\"First company:\",it_companies[0],\",Middle company:\",it_companies[len(it_companies)//2],\",Last company:\",it_companies[-1])"
      ],
      "metadata": {
        "colab": {
          "base_uri": "https://localhost:8080/"
        },
        "id": "kmGDlsGFN12z",
        "outputId": "439c549b-b8cd-4e99-c1e1-3d1b9b71258d"
      },
      "execution_count": 9,
      "outputs": [
        {
          "output_type": "stream",
          "name": "stdout",
          "text": [
            "First company: Facebook ,Middle company: Apple ,Last company: Amazon\n"
          ]
        }
      ]
    },
    {
      "cell_type": "code",
      "source": [
        "# 10. Print the list after modifying one of the companies\n",
        "it_companies[5] = 'Nvidia'\n",
        "print(it_companies)"
      ],
      "metadata": {
        "colab": {
          "base_uri": "https://localhost:8080/"
        },
        "id": "PlBGE4RCN4nG",
        "outputId": "bb9ebf3d-4c65-4808-e9ed-9c2deb4040e6"
      },
      "execution_count": 10,
      "outputs": [
        {
          "output_type": "stream",
          "name": "stdout",
          "text": [
            "['Facebook', 'Google', 'Microsoft', 'Apple', 'IBM', 'Nvidia', 'Amazon']\n"
          ]
        }
      ]
    },
    {
      "cell_type": "code",
      "source": [
        "# 11. Add an IT company to it_companies\n",
        "it_companies.append('Oracle')\n",
        "print(it_companies)"
      ],
      "metadata": {
        "colab": {
          "base_uri": "https://localhost:8080/"
        },
        "id": "sLRaGagON7XF",
        "outputId": "f17b9213-fd96-49fd-dc5a-52813d15fc1e"
      },
      "execution_count": 11,
      "outputs": [
        {
          "output_type": "stream",
          "name": "stdout",
          "text": [
            "['Facebook', 'Google', 'Microsoft', 'Apple', 'IBM', 'Nvidia', 'Amazon', 'Oracle']\n"
          ]
        }
      ]
    },
    {
      "cell_type": "code",
      "source": [
        "# 12. Insert an IT company in the middle of the companies list\n",
        "print(\"Length of it_companies:\",len(it_companies))\n",
        "it_companies.insert(4,'TCS')\n",
        "print(it_companies)"
      ],
      "metadata": {
        "colab": {
          "base_uri": "https://localhost:8080/"
        },
        "id": "9aZoI4pFN-LP",
        "outputId": "350e4511-0c08-4b5e-dde9-5c059640a34f"
      },
      "execution_count": 12,
      "outputs": [
        {
          "output_type": "stream",
          "name": "stdout",
          "text": [
            "Length of it_companies: 8\n",
            "['Facebook', 'Google', 'Microsoft', 'Apple', 'TCS', 'IBM', 'Nvidia', 'Amazon', 'Oracle']\n"
          ]
        }
      ]
    },
    {
      "cell_type": "code",
      "source": [
        "# 13. Change one of the it_companies names to uppercase (IBM excluded!)\n",
        "it_companies[1] = it_companies[1].upper()\n",
        "print(it_companies)"
      ],
      "metadata": {
        "colab": {
          "base_uri": "https://localhost:8080/"
        },
        "id": "fc7Y0KRDOA0R",
        "outputId": "b7d1c024-e8dd-4837-fe76-4c6eba4534a0"
      },
      "execution_count": 13,
      "outputs": [
        {
          "output_type": "stream",
          "name": "stdout",
          "text": [
            "['Facebook', 'GOOGLE', 'Microsoft', 'Apple', 'TCS', 'IBM', 'Nvidia', 'Amazon', 'Oracle']\n"
          ]
        }
      ]
    },
    {
      "cell_type": "code",
      "source": [
        "# 14. Join the it_companies with a string '#;  '\n",
        "new_list = '#,'.join(it_companies)\n",
        "print(new_list)"
      ],
      "metadata": {
        "colab": {
          "base_uri": "https://localhost:8080/"
        },
        "id": "qPJoir1SODi_",
        "outputId": "6590976f-4543-4f66-dda0-151cf7f60be6"
      },
      "execution_count": 14,
      "outputs": [
        {
          "output_type": "stream",
          "name": "stdout",
          "text": [
            "Facebook#,GOOGLE#,Microsoft#,Apple#,TCS#,IBM#,Nvidia#,Amazon#,Oracle\n"
          ]
        }
      ]
    },
    {
      "cell_type": "code",
      "source": [
        "# 15. Check if a certain company exists in the it_companies list.\n",
        "print('Wipro' in it_companies)"
      ],
      "metadata": {
        "colab": {
          "base_uri": "https://localhost:8080/"
        },
        "id": "VoXj_8aeOGSv",
        "outputId": "b9990650-19d5-436f-c02f-5c1d363c2ae4"
      },
      "execution_count": 15,
      "outputs": [
        {
          "output_type": "stream",
          "name": "stdout",
          "text": [
            "False\n"
          ]
        }
      ]
    },
    {
      "cell_type": "code",
      "execution_count": 16,
      "metadata": {
        "id": "314aee47-adca-4c4e-b8c7-8185cc8e1fd7",
        "colab": {
          "base_uri": "https://localhost:8080/"
        },
        "outputId": "ab4285ef-e3dd-4766-beac-3a84ec1da61b"
      },
      "outputs": [
        {
          "output_type": "stream",
          "name": "stdout",
          "text": [
            "['Amazon', 'Apple', 'Facebook', 'GOOGLE', 'IBM', 'Microsoft', 'Nvidia', 'Oracle', 'TCS']\n"
          ]
        }
      ],
      "source": [
        "# 16. Sort the list using sort() method\n",
        "it_companies.sort()\n",
        "print(it_companies)"
      ]
    },
    {
      "cell_type": "code",
      "execution_count": 17,
      "metadata": {
        "id": "a95fb5fd-8797-4cd5-ba17-215f0e5d2946",
        "colab": {
          "base_uri": "https://localhost:8080/"
        },
        "outputId": "7f0a8f7d-b334-40f8-b5d7-d05c16c86c7e"
      },
      "outputs": [
        {
          "output_type": "stream",
          "name": "stdout",
          "text": [
            "['TCS', 'Oracle', 'Nvidia', 'Microsoft', 'IBM', 'GOOGLE', 'Facebook', 'Apple', 'Amazon']\n"
          ]
        }
      ],
      "source": [
        "# 17. Reverse the list in descending order using reverse() method\n",
        "it_companies.reverse()\n",
        "print(it_companies)"
      ]
    },
    {
      "cell_type": "code",
      "execution_count": 18,
      "metadata": {
        "id": "0d3fd2d7-37e4-41e1-92cd-36fb3456f5ee",
        "colab": {
          "base_uri": "https://localhost:8080/"
        },
        "outputId": "2aa7a694-0ec2-4382-e32c-ecb7412d93ed"
      },
      "outputs": [
        {
          "output_type": "stream",
          "name": "stdout",
          "text": [
            "First 3 companies: ['TCS', 'Oracle', 'Nvidia']\n"
          ]
        }
      ],
      "source": [
        "# 18. Slice out the first 3 companies from the list\n",
        "print(\"First 3 companies:\",it_companies[:3])"
      ]
    },
    {
      "cell_type": "code",
      "execution_count": 19,
      "metadata": {
        "id": "ecba15b6-2f59-4632-8b4a-67545f5761dd",
        "colab": {
          "base_uri": "https://localhost:8080/"
        },
        "outputId": "c71773aa-b3c9-4eb8-a396-1b0381b0c873"
      },
      "outputs": [
        {
          "output_type": "stream",
          "name": "stdout",
          "text": [
            "Last 3 companies: ['Facebook', 'Apple', 'Amazon']\n"
          ]
        }
      ],
      "source": [
        "# 19. Slice out the last 3 companies from the list\n",
        "print(\"Last 3 companies:\",it_companies[-3:])"
      ]
    },
    {
      "cell_type": "code",
      "execution_count": 20,
      "metadata": {
        "id": "189ba7e4-c6f1-4f25-b978-39d66e0ce7f8",
        "colab": {
          "base_uri": "https://localhost:8080/"
        },
        "outputId": "5ba5366a-29d1-405f-8a86-3f7ef6daa952"
      },
      "outputs": [
        {
          "output_type": "stream",
          "name": "stdout",
          "text": [
            "Middle company: IBM\n"
          ]
        }
      ],
      "source": [
        "# 20. Slice out the middle IT company or companies from the list\n",
        "print(\"Middle company:\",it_companies[len(it_companies)//2])"
      ]
    },
    {
      "cell_type": "code",
      "execution_count": 21,
      "metadata": {
        "id": "f08fe2ae-89f7-43b5-94f2-d4df57ec8ddd",
        "colab": {
          "base_uri": "https://localhost:8080/"
        },
        "outputId": "12d5942a-1a07-4acf-bcd7-9220c31b7459"
      },
      "outputs": [
        {
          "output_type": "stream",
          "name": "stdout",
          "text": [
            "['Oracle', 'Nvidia', 'Microsoft', 'IBM', 'GOOGLE', 'Facebook', 'Apple', 'Amazon']\n"
          ]
        }
      ],
      "source": [
        "# 21. Remove the first IT company from the list\n",
        "it_companies.pop(0)\n",
        "print(it_companies)"
      ]
    },
    {
      "cell_type": "code",
      "execution_count": 22,
      "metadata": {
        "id": "a06e1918-dfac-4be1-9aea-faab50101878",
        "colab": {
          "base_uri": "https://localhost:8080/"
        },
        "outputId": "55639244-c8bb-46ff-9605-22e5f89d1418"
      },
      "outputs": [
        {
          "output_type": "stream",
          "name": "stdout",
          "text": [
            "['Oracle', 'Nvidia', 'Microsoft', 'Facebook', 'Apple', 'Amazon']\n"
          ]
        }
      ],
      "source": [
        "# 22. Remove the middle IT company or companies from the list\n",
        "del it_companies[3:5]\n",
        "print(it_companies)"
      ]
    },
    {
      "cell_type": "code",
      "execution_count": 23,
      "metadata": {
        "id": "ad8da79d-0d3e-4028-89d7-0e44f7921bbe",
        "colab": {
          "base_uri": "https://localhost:8080/"
        },
        "outputId": "e408e0b9-e786-4255-c9ad-d9a92617cc5c"
      },
      "outputs": [
        {
          "output_type": "stream",
          "name": "stdout",
          "text": [
            "['Oracle', 'Nvidia', 'Microsoft', 'Facebook', 'Apple']\n"
          ]
        }
      ],
      "source": [
        "# 23. Remove the last IT company from the list\n",
        "it_companies.pop(-1)\n",
        "print(it_companies)"
      ]
    },
    {
      "cell_type": "code",
      "execution_count": 24,
      "metadata": {
        "id": "75a4e29f-3d99-46d8-874a-7dfdb322f0b1"
      },
      "outputs": [],
      "source": [
        "# 24. Remove all IT companies from the list\n",
        "it_companies.clear()"
      ]
    },
    {
      "cell_type": "code",
      "execution_count": 79,
      "metadata": {
        "id": "ead6d534-e733-465b-942f-bad54efa4b0e"
      },
      "outputs": [],
      "source": [
        "# 25. Destroy the IT companies list\n",
        "del it_companies"
      ]
    },
    {
      "cell_type": "code",
      "execution_count": 26,
      "metadata": {
        "id": "16fbc7a5-14b8-4388-9df0-4922ff5231ca",
        "colab": {
          "base_uri": "https://localhost:8080/"
        },
        "outputId": "c38adcf3-cad9-4734-e95b-692130cd415a"
      },
      "outputs": [
        {
          "output_type": "stream",
          "name": "stdout",
          "text": [
            "['HTML', 'CSS', 'JS', 'React', 'Redux', 'Node', 'Express', 'MongoDB']\n"
          ]
        }
      ],
      "source": [
        "# 26. Join the following lists:\n",
        "# front_end = ['HTML', 'CSS', 'JS', 'React', 'Redux']\n",
        "# back_end = ['Node','Express', 'MongoDB']\n",
        "front_end = ['HTML', 'CSS', 'JS', 'React', 'Redux']\n",
        "back_end = ['Node','Express', 'MongoDB']\n",
        "new_list = front_end + back_end\n",
        "print(new_list)"
      ]
    },
    {
      "cell_type": "code",
      "execution_count": 27,
      "metadata": {
        "id": "02cf8864-25b0-42bd-bfbf-53c1e38dcf41",
        "colab": {
          "base_uri": "https://localhost:8080/"
        },
        "outputId": "92722ea4-0e0d-48dd-afa2-5cc7a17a802f"
      },
      "outputs": [
        {
          "output_type": "stream",
          "name": "stdout",
          "text": [
            "['HTML', 'CSS', 'JS', 'React', 'Redux', 'Python', 'SQL', 'Node', 'Express', 'MongoDB']\n"
          ]
        }
      ],
      "source": [
        "# 27. After joining the lists in question 26. Copy the joined list and assign it to a\n",
        "# variable full_stack, then insert Python and SQL after Redux.\n",
        "full_stack = new_list.copy()\n",
        "full_stack.insert(5,'Python')\n",
        "full_stack.insert(6,'SQL')\n",
        "print(full_stack)"
      ]
    },
    {
      "cell_type": "code",
      "source": [
        "print(new_list)"
      ],
      "metadata": {
        "colab": {
          "base_uri": "https://localhost:8080/"
        },
        "id": "PTVcJodAP38Y",
        "outputId": "d5544f9b-8b52-44bb-b0b2-2f7d578abd2f"
      },
      "execution_count": 28,
      "outputs": [
        {
          "output_type": "stream",
          "name": "stdout",
          "text": [
            "['HTML', 'CSS', 'JS', 'React', 'Redux', 'Node', 'Express', 'MongoDB']\n"
          ]
        }
      ]
    },
    {
      "cell_type": "code",
      "execution_count": 29,
      "metadata": {
        "id": "dd4ae415-b498-4f6d-8f23-3ca39f589cbf",
        "colab": {
          "base_uri": "https://localhost:8080/"
        },
        "outputId": "eb9fd347-20a7-4b0d-c799-1253217d52a6"
      },
      "outputs": [
        {
          "output_type": "stream",
          "name": "stdout",
          "text": [
            "Sorted age list: [19, 19, 20, 22, 24, 24, 24, 25, 25, 26]\n",
            "Min age: 19\n",
            "Max age: 26\n"
          ]
        }
      ],
      "source": [
        "# 28. Sort the list and find the min and max age\n",
        "ages = [19, 22, 19, 24, 20, 25, 26, 24, 25, 24]\n",
        "ages.sort()\n",
        "print(\"Sorted age list:\",ages)\n",
        "min_age = min(ages)\n",
        "print(\"Min age:\",min_age)\n",
        "max_age = max(ages)\n",
        "print(\"Max age:\",max_age)"
      ]
    },
    {
      "cell_type": "code",
      "execution_count": 30,
      "metadata": {
        "id": "200adfd6-3cd7-4a06-908a-7fb883b18409",
        "colab": {
          "base_uri": "https://localhost:8080/"
        },
        "outputId": "4620b16b-b380-493f-a2a0-e53b759b0e4e"
      },
      "outputs": [
        {
          "output_type": "execute_result",
          "data": {
            "text/plain": [
              "[19, 19, 20, 22, 24, 24, 24, 25, 25, 26, 19, 26]"
            ]
          },
          "metadata": {},
          "execution_count": 30
        }
      ],
      "source": [
        "# 29.Add the min age and the max age again to the list\n",
        "ages.extend([min_age, max_age])\n",
        "ages"
      ]
    },
    {
      "cell_type": "code",
      "execution_count": 31,
      "metadata": {
        "id": "59ec9452-ee61-4ec4-941c-9bd9f61c45ac",
        "colab": {
          "base_uri": "https://localhost:8080/"
        },
        "outputId": "b7cf9033-cbce-4a5b-bf68-5ec61cd7bf49"
      },
      "outputs": [
        {
          "output_type": "stream",
          "name": "stdout",
          "text": [
            "Median is 24\n"
          ]
        }
      ],
      "source": [
        "# 30.Find the median age (one middle item or two middle items divided by two)\n",
        "ages.sort()\n",
        "n = len(ages)\n",
        "if n % 2 == 0:\n",
        "  median = (ages[n//2] + ages[n//2 + 1]) // 2\n",
        "else:\n",
        "  median = ages[n//2]\n",
        "print(\"Median is\",median)"
      ]
    },
    {
      "cell_type": "code",
      "execution_count": 32,
      "metadata": {
        "id": "f55f973e-f02c-4806-b4f7-4ebb30256523",
        "colab": {
          "base_uri": "https://localhost:8080/"
        },
        "outputId": "050887e0-d638-4c25-d645-3a8cc3380279"
      },
      "outputs": [
        {
          "output_type": "stream",
          "name": "stdout",
          "text": [
            "Average of age is 22.75\n"
          ]
        }
      ],
      "source": [
        "# 31.Find the average age (sum of all items divided by their number )\n",
        "sum = 0\n",
        "for i in ages:\n",
        "    sum = sum + i\n",
        "avg_age = sum / len(ages)\n",
        "print(\"Average of age is\",avg_age)"
      ]
    },
    {
      "cell_type": "code",
      "execution_count": 33,
      "metadata": {
        "id": "b1cc3a2d-eecc-430e-b210-9605ec042cd0",
        "colab": {
          "base_uri": "https://localhost:8080/"
        },
        "outputId": "a6449df7-ba5f-4435-c7f7-c2bd0b2ed7ce"
      },
      "outputs": [
        {
          "output_type": "stream",
          "name": "stdout",
          "text": [
            "Range of the ages is 7\n"
          ]
        }
      ],
      "source": [
        "# 32.Find the range of the ages (max minus min)\n",
        "range = max(ages) - min(ages)\n",
        "print(\"Range of the ages is\",range)"
      ]
    },
    {
      "cell_type": "code",
      "execution_count": 34,
      "metadata": {
        "id": "ebd8f1f3-7051-453b-9de0-202c7054a7fb",
        "colab": {
          "base_uri": "https://localhost:8080/"
        },
        "outputId": "542f9eaa-a922-4c08-ae6d-44e5a3870a67"
      },
      "outputs": [
        {
          "output_type": "stream",
          "name": "stdout",
          "text": [
            "(min - average) is 3.75\n",
            "(max - average) is 3.25\n"
          ]
        }
      ],
      "source": [
        "# 33.Compare the value of (min - average) and (max - average), use abs() method\n",
        "print(\"(min - average) is\",abs(min(ages)- avg_age))\n",
        "print(\"(max - average) is\",abs(max(ages)- avg_age))"
      ]
    },
    {
      "cell_type": "code",
      "execution_count": 35,
      "metadata": {
        "id": "248391f0-f822-40a3-b15c-79ce28b3abdf",
        "colab": {
          "base_uri": "https://localhost:8080/",
          "height": 36
        },
        "outputId": "230c9f80-2838-437e-dd70-f67cbf1d1b3a"
      },
      "outputs": [
        {
          "output_type": "execute_result",
          "data": {
            "text/plain": [
              "'Finland'"
            ],
            "application/vnd.google.colaboratory.intrinsic+json": {
              "type": "string"
            }
          },
          "metadata": {},
          "execution_count": 35
        }
      ],
      "source": [
        "# 34.Find the middle country(ies) in the countries list\n",
        "countries = ['China', 'Russia', 'USA', 'Finland', 'Sweden', 'Norway', 'Denmark']\n",
        "countries[len(countries)//2]"
      ]
    },
    {
      "cell_type": "code",
      "execution_count": 36,
      "metadata": {
        "id": "450b75c9-6cd9-4cc0-9fb8-fde52c6de453",
        "colab": {
          "base_uri": "https://localhost:8080/"
        },
        "outputId": "19cbf3cd-bc36-4be3-d618-29695ca0c38a"
      },
      "outputs": [
        {
          "output_type": "stream",
          "name": "stdout",
          "text": [
            "['China', 'Russia', 'USA', 'Finland']\n",
            "['Sweden', 'Norway', 'Denmark', 'India']\n"
          ]
        }
      ],
      "source": [
        "# 35.Divide the countries list into two equal lists if it is even if not one more country for the first half.\n",
        "countries = ['China', 'Russia', 'USA', 'Finland', 'Sweden', 'Norway', 'Denmark','India']\n",
        "print(countries[0:4])\n",
        "print(countries[4:9])"
      ]
    },
    {
      "cell_type": "code",
      "execution_count": 37,
      "metadata": {
        "id": "f271cd7c-dd09-4eb8-9226-da68d5a289b2",
        "colab": {
          "base_uri": "https://localhost:8080/"
        },
        "outputId": "c69b89d2-9dda-48d7-e519-3ee48bf025a4"
      },
      "outputs": [
        {
          "output_type": "stream",
          "name": "stdout",
          "text": [
            "China\n",
            "Russia\n",
            "USA\n",
            "Scandic countries: ['Finland', 'Sweden', 'Norway', 'Denmark']\n"
          ]
        }
      ],
      "source": [
        "# ['China', 'Russia', 'USA', 'Finland', 'Sweden', 'Norway', 'Denmark'].\n",
        "# 36.Unpack the first three countries and the rest as scandic countries.\n",
        "countries = ['China', 'Russia', 'USA', 'Finland', 'Sweden', 'Norway', 'Denmark']\n",
        "first_country, second_country, third_country = countries[0:3]\n",
        "print(first_country)\n",
        "print(second_country)\n",
        "print(third_country)\n",
        "scandic_countries = countries[3:]\n",
        "print(\"Scandic countries:\",scandic_countries)"
      ]
    },
    {
      "cell_type": "markdown",
      "source": [
        "## Tuple"
      ],
      "metadata": {
        "id": "NUOrog-4PAm0"
      }
    },
    {
      "cell_type": "code",
      "execution_count": 38,
      "metadata": {
        "id": "1026f155-cd7c-433e-8301-845f7159d638",
        "colab": {
          "base_uri": "https://localhost:8080/"
        },
        "outputId": "270fa609-3935-4565-9bdc-2b1bd378a231"
      },
      "outputs": [
        {
          "output_type": "stream",
          "name": "stdout",
          "text": [
            "<class 'tuple'>\n"
          ]
        }
      ],
      "source": [
        "# 1. Create an empty tuple\n",
        "empty_tuple = ()\n",
        "print(type(empty_tuple))"
      ]
    },
    {
      "cell_type": "code",
      "execution_count": 39,
      "metadata": {
        "id": "b47ce189-aba9-43a6-a16c-1d5120105d70"
      },
      "outputs": [],
      "source": [
        "# 2. Create a tuple containing names of your sisters and your brothers (imaginary siblings are fine)\n",
        "sister_brother = ('Achu','Appu','Kichu','Gokul','Ammu')"
      ]
    },
    {
      "cell_type": "code",
      "execution_count": 40,
      "metadata": {
        "colab": {
          "base_uri": "https://localhost:8080/"
        },
        "id": "681fb7d0-cda0-47c8-949f-d62a92a7c496",
        "outputId": "4371bdc0-acfb-4ddf-940c-814cfc3dd686"
      },
      "outputs": [
        {
          "output_type": "stream",
          "name": "stdout",
          "text": [
            "('Appu', 'Kichu', 'Gokul', 'Ammu', 'Achu')\n"
          ]
        }
      ],
      "source": [
        "# 3. Join brothers and sisters tuples and assign it to siblings\n",
        "brothers = ('Appu','Kichu','Gokul')\n",
        "sisters = ('Ammu','Achu')\n",
        "siblings = brothers + sisters\n",
        "print(siblings)"
      ]
    },
    {
      "cell_type": "code",
      "execution_count": 41,
      "metadata": {
        "colab": {
          "base_uri": "https://localhost:8080/"
        },
        "id": "ecdd3608-13c6-4e97-bb21-e326ec1c0878",
        "outputId": "5088d118-ee35-4ea3-9f5c-6381c5d1e3cd"
      },
      "outputs": [
        {
          "output_type": "stream",
          "name": "stdout",
          "text": [
            "Length of siblings: 5\n"
          ]
        }
      ],
      "source": [
        "# 4. How many siblings do you have?\n",
        "print(\"Length of siblings:\",len(siblings))"
      ]
    },
    {
      "cell_type": "code",
      "execution_count": 42,
      "metadata": {
        "colab": {
          "base_uri": "https://localhost:8080/"
        },
        "id": "34683f88-9735-45af-845f-f52abc29533a",
        "outputId": "dbcc4652-5996-4883-91dd-d49329c7a2d1"
      },
      "outputs": [
        {
          "output_type": "stream",
          "name": "stdout",
          "text": [
            "('Appu', 'Kichu', 'Gokul', 'Ammu', 'Achu', 'Ajith', 'Beena')\n"
          ]
        }
      ],
      "source": [
        "# 5. Modify the siblings tuple and add the name of your father and mother and assign it to family_members\n",
        "family_members = siblings + ('Ajith', 'Beena')\n",
        "print(family_members)"
      ]
    },
    {
      "cell_type": "code",
      "execution_count": 43,
      "metadata": {
        "colab": {
          "base_uri": "https://localhost:8080/"
        },
        "id": "8e5d51d0-fdc2-4ab9-a83d-6e9384325a67",
        "outputId": "e633936a-b12c-4139-e74c-a0c79013edff"
      },
      "outputs": [
        {
          "output_type": "stream",
          "name": "stdout",
          "text": [
            "Parents: ('Ajith', 'Beena')\n",
            "Siblings: ('Appu', 'Kichu', 'Gokul', 'Ammu', 'Achu')\n"
          ]
        }
      ],
      "source": [
        "# 6. Unpack siblings and parents from family_members\n",
        "parents = family_members[5:7]\n",
        "print(\"Parents:\",parents)\n",
        "siblings = family_members[0:5]\n",
        "print(\"Siblings:\",siblings)"
      ]
    },
    {
      "cell_type": "code",
      "execution_count": 44,
      "metadata": {
        "colab": {
          "base_uri": "https://localhost:8080/"
        },
        "id": "4cb60264-6b36-4104-b884-a98550645f5a",
        "outputId": "c527daa8-2566-484e-ad7a-444f1a4aee44"
      },
      "outputs": [
        {
          "output_type": "stream",
          "name": "stdout",
          "text": [
            "('Apple', 'Mango', 'Orange', 'Carrot', 'Potato', 'Onion', 'Milk', 'Ghee', 'Paneer')\n"
          ]
        }
      ],
      "source": [
        "# 7. Create fruits, vegetables and animal products tuples. Join the three tuples and\n",
        "# assign it to a variable called food_stuff_tp.\n",
        "fruits = ('Apple','Mango','Orange')\n",
        "vegetables = ('Carrot','Potato','Onion')\n",
        "animal_products = ('Milk','Ghee','Paneer')\n",
        "food_stuff_tp = fruits + vegetables + animal_products\n",
        "print(food_stuff_tp)"
      ]
    },
    {
      "cell_type": "code",
      "execution_count": 45,
      "metadata": {
        "colab": {
          "base_uri": "https://localhost:8080/"
        },
        "id": "a900b2a8-d7e5-4256-a975-09a3ba091dbe",
        "outputId": "e0e4ec34-6e75-4a57-f556-0286d0e9475d"
      },
      "outputs": [
        {
          "output_type": "stream",
          "name": "stdout",
          "text": [
            "['Apple', 'Mango', 'Orange', 'Carrot', 'Potato', 'Onion', 'Milk', 'Ghee', 'Paneer']\n"
          ]
        }
      ],
      "source": [
        "# 8. Change the about food_stuff_tp tuple to a food_stuff_lt list\n",
        "food_stuff_lt = list(food_stuff_tp)\n",
        "print(food_stuff_lt)"
      ]
    },
    {
      "cell_type": "code",
      "execution_count": 46,
      "metadata": {
        "colab": {
          "base_uri": "https://localhost:8080/"
        },
        "id": "dafc6ef2-9c02-45d3-ad81-5d5fd6842d97",
        "outputId": "0bf9d072-e73e-4011-8637-878e8de481c6"
      },
      "outputs": [
        {
          "output_type": "stream",
          "name": "stdout",
          "text": [
            "Middle item in the food_stuff_lt list: Potato\n"
          ]
        }
      ],
      "source": [
        "# 9. Slice out the middle item or items from the food_stuff_tp tuple or food_stuff_lt\n",
        "print(\"Middle item in the food_stuff_lt list:\",food_stuff_lt[len(food_stuff_lt)//2])"
      ]
    },
    {
      "cell_type": "code",
      "execution_count": 47,
      "metadata": {
        "colab": {
          "base_uri": "https://localhost:8080/"
        },
        "id": "fa0cf3bc-9086-43a5-9536-27aa8843a3d0",
        "outputId": "35f13f98-d9a6-4007-a338-0456576570b3"
      },
      "outputs": [
        {
          "output_type": "stream",
          "name": "stdout",
          "text": [
            "First 3: ['Apple', 'Mango']\n",
            "Last 3: ['Milk', 'Ghee', 'Paneer']\n"
          ]
        }
      ],
      "source": [
        "# 10.  Slice out the first three items and the last three items from food_staff_lt list\n",
        "print(\"First 3:\",food_stuff_lt[0:2])\n",
        "print(\"Last 3:\",food_stuff_lt[-3:])"
      ]
    },
    {
      "cell_type": "code",
      "execution_count": 48,
      "metadata": {
        "id": "32d62f86-00ff-42ad-b1a4-83c9637220bd"
      },
      "outputs": [],
      "source": [
        "# 11. Delete the food_staff_tp tuple completely\n",
        "del food_stuff_tp"
      ]
    },
    {
      "cell_type": "code",
      "execution_count": 49,
      "metadata": {
        "colab": {
          "base_uri": "https://localhost:8080/"
        },
        "id": "d786909d-d7d4-45ec-80ca-6feab7a6efd2",
        "outputId": "1775f407-4ce2-4955-f24c-0026959cb66c"
      },
      "outputs": [
        {
          "output_type": "stream",
          "name": "stdout",
          "text": [
            "False\n",
            "True\n"
          ]
        }
      ],
      "source": [
        "# 12. Check if an item exists in tuple:\n",
        "# Check if 'Estonia' is a nordic country\n",
        "# Check if 'Iceland' is a nordic country\n",
        "# nordic_countries = ('Denmark', 'Finland','Iceland', 'Norway', 'Sweden')\n",
        "nordic_countries = ('Denmark', 'Finland','Iceland', 'Norway', 'Sweden')\n",
        "print(('Estonia' in nordic_countries))\n",
        "print(('Iceland' in nordic_countries))"
      ]
    },
    {
      "cell_type": "markdown",
      "source": [
        "## Set"
      ],
      "metadata": {
        "id": "SrIaFVWgPZVb"
      }
    },
    {
      "cell_type": "code",
      "execution_count": 50,
      "metadata": {
        "id": "0a7b0030-0947-4a39-ad5b-6ede9763ce8e"
      },
      "outputs": [],
      "source": [
        "it_companies = {'Facebook', 'Google', 'Microsoft', 'Apple', 'IBM', 'Oracle', 'Amazon'}\n",
        "A = {19, 22, 24, 20, 25, 26}\n",
        "B = {19, 22, 20, 25, 26, 24, 28, 27}\n",
        "age = [22, 19, 24, 25, 26, 24, 25, 24]"
      ]
    },
    {
      "cell_type": "code",
      "execution_count": 51,
      "metadata": {
        "colab": {
          "base_uri": "https://localhost:8080/"
        },
        "id": "9906cb71-e6aa-4900-aa6d-060fc0ee0d3b",
        "outputId": "7d334e16-5962-42e2-984e-1a5f5d50a736"
      },
      "outputs": [
        {
          "output_type": "stream",
          "name": "stdout",
          "text": [
            "Length of it_companies: 7\n"
          ]
        }
      ],
      "source": [
        "# 1. Find the length of the set it_companies\n",
        "print(\"Length of it_companies:\",len(it_companies))"
      ]
    },
    {
      "cell_type": "code",
      "execution_count": 52,
      "metadata": {
        "colab": {
          "base_uri": "https://localhost:8080/"
        },
        "id": "ca13f143-4eae-4a53-87ad-ba060516ac3c",
        "outputId": "f2c78fc8-4e96-42a3-c43f-197ff51bdf14"
      },
      "outputs": [
        {
          "output_type": "stream",
          "name": "stdout",
          "text": [
            "{'Facebook', 'IBM', 'Apple', 'Microsoft', 'Amazon', 'Google', 'Oracle', 'Twitter'}\n"
          ]
        }
      ],
      "source": [
        "# 2.Add 'Twitter' to it_companies\n",
        "it_companies.add('Twitter')\n",
        "print(it_companies)"
      ]
    },
    {
      "cell_type": "code",
      "execution_count": 53,
      "metadata": {
        "colab": {
          "base_uri": "https://localhost:8080/"
        },
        "id": "4d9edee2-9b1e-45a0-b333-0044aa4beca0",
        "outputId": "934f53f5-77fe-4b02-aa4f-cb145ba1d31c"
      },
      "outputs": [
        {
          "output_type": "stream",
          "name": "stdout",
          "text": [
            "{'IBM', 'TCS', 'Infosys', 'Microsoft', 'Facebook', 'Oracle', 'Apple', 'Amazon', 'Google', 'Twitter', 'Nvidia'}\n"
          ]
        }
      ],
      "source": [
        "# 3. Insert multiple IT companies at once to the set it_companies\n",
        "it_companies.update(['Nvidia','TCS','Infosys'])\n",
        "print(it_companies)"
      ]
    },
    {
      "cell_type": "code",
      "execution_count": 54,
      "metadata": {
        "id": "f23cf746-eb1e-4979-aced-0eda9f29ada8",
        "colab": {
          "base_uri": "https://localhost:8080/"
        },
        "outputId": "94b6132e-7b97-4536-e770-b355256235f0"
      },
      "outputs": [
        {
          "output_type": "stream",
          "name": "stdout",
          "text": [
            "{'IBM', 'Infosys', 'Microsoft', 'Facebook', 'Oracle', 'Apple', 'Amazon', 'Google', 'Twitter', 'Nvidia'}\n"
          ]
        }
      ],
      "source": [
        "# 4. Remove one of the companies from the set it_companies\n",
        "it_companies.remove('TCS')\n",
        "print(it_companies)"
      ]
    },
    {
      "cell_type": "code",
      "execution_count": 55,
      "metadata": {
        "id": "0b0f20c8-3710-4cb5-83f0-a25a583dd639"
      },
      "outputs": [],
      "source": [
        "# 5. What is the difference between remove and discard\n",
        "# Both discard() and remove() removes the element but in remove() if the element is not present it shows error by saying the element is not present and in discard() it will not show error even the element is not present."
      ]
    },
    {
      "cell_type": "code",
      "execution_count": 56,
      "metadata": {
        "colab": {
          "base_uri": "https://localhost:8080/"
        },
        "id": "6f236ee3-0fed-481d-8653-7cb0a5383ef2",
        "outputId": "aebe4a5e-0701-46e9-f08d-ac7b1924bd34"
      },
      "outputs": [
        {
          "output_type": "execute_result",
          "data": {
            "text/plain": [
              "{19, 20, 22, 24, 25, 26, 27, 28}"
            ]
          },
          "metadata": {},
          "execution_count": 56
        }
      ],
      "source": [
        "# 6. Join A and B\n",
        "A | B\n",
        "# A.union(B)"
      ]
    },
    {
      "cell_type": "code",
      "execution_count": 57,
      "metadata": {
        "colab": {
          "base_uri": "https://localhost:8080/"
        },
        "id": "ddd10b0d-0a61-438e-a251-c2461584be36",
        "outputId": "4e210f76-f994-4907-835f-f56b423bb073"
      },
      "outputs": [
        {
          "output_type": "execute_result",
          "data": {
            "text/plain": [
              "{19, 20, 22, 24, 25, 26}"
            ]
          },
          "metadata": {},
          "execution_count": 57
        }
      ],
      "source": [
        "# 7. Find A intersection B\n",
        "A & B"
      ]
    },
    {
      "cell_type": "code",
      "execution_count": 58,
      "metadata": {
        "colab": {
          "base_uri": "https://localhost:8080/"
        },
        "id": "5bf01c41-c3fa-4603-a30f-060d972fca88",
        "outputId": "d03231b4-2ce4-4fa1-9399-5f7ff21fde61"
      },
      "outputs": [
        {
          "output_type": "stream",
          "name": "stdout",
          "text": [
            "True\n"
          ]
        }
      ],
      "source": [
        "# 8. Is A subset of B\n",
        "print(A.issubset(B))"
      ]
    },
    {
      "cell_type": "code",
      "execution_count": 59,
      "metadata": {
        "colab": {
          "base_uri": "https://localhost:8080/"
        },
        "id": "ef1dae52-491d-413d-a73c-c750dd394a4a",
        "outputId": "7195e563-c1bd-4fb0-da57-653f78e55a59"
      },
      "outputs": [
        {
          "output_type": "stream",
          "name": "stdout",
          "text": [
            "False\n"
          ]
        }
      ],
      "source": [
        "# 9. Are A and B disjoint sets\n",
        "print(A.isdisjoint(B))"
      ]
    },
    {
      "cell_type": "code",
      "execution_count": 60,
      "metadata": {
        "colab": {
          "base_uri": "https://localhost:8080/"
        },
        "id": "2906a6f5-2583-49fe-8c60-f2528eda9c44",
        "outputId": "f1b55e77-d0e8-4d4f-d84e-04b7ba5d5ebc"
      },
      "outputs": [
        {
          "output_type": "stream",
          "name": "stdout",
          "text": [
            "Join A with B {19, 20, 22, 24, 25, 26, 27, 28}\n",
            "Join B with A {19, 20, 22, 24, 25, 26, 27, 28}\n"
          ]
        }
      ],
      "source": [
        "# 10. Join A with B and B with A\n",
        "print(\"Join A with B\",A | B)\n",
        "print(\"Join B with A\",B | A)"
      ]
    },
    {
      "cell_type": "code",
      "execution_count": 61,
      "metadata": {
        "colab": {
          "base_uri": "https://localhost:8080/"
        },
        "id": "40183476-3374-47d7-857c-070301e00f1c",
        "outputId": "ad45d1fc-d008-40c4-e533-c24f08c5be84"
      },
      "outputs": [
        {
          "output_type": "stream",
          "name": "stdout",
          "text": [
            "{27, 28}\n"
          ]
        }
      ],
      "source": [
        "# 11. What is the symmetric difference between A and B\n",
        "print(A ^ B)"
      ]
    },
    {
      "cell_type": "code",
      "execution_count": 62,
      "metadata": {
        "id": "13310309-8065-4369-bb0b-9ed7f1f59024"
      },
      "outputs": [],
      "source": [
        " # 12. Delete the sets completely\n",
        " del A"
      ]
    },
    {
      "cell_type": "code",
      "execution_count": 63,
      "metadata": {
        "colab": {
          "base_uri": "https://localhost:8080/"
        },
        "id": "dd5f2b3a-df25-4b26-952d-84439f397d95",
        "outputId": "a8ee56d3-ba9c-4715-abc7-a9e63c0d23ec"
      },
      "outputs": [
        {
          "output_type": "stream",
          "name": "stdout",
          "text": [
            "{19, 22, 24, 25, 26}\n"
          ]
        }
      ],
      "source": [
        "# 13. Convert the ages to a set and compare the length of the list and the set, which one is bigger?\n",
        "list_age = [22, 19, 24, 25, 26, 24, 25, 24]\n",
        "set_age = set(list_age)\n",
        "print(set_age)"
      ]
    },
    {
      "cell_type": "code",
      "source": [
        "if len(set_age) > len(list_age):\n",
        "  print(\"Length of set is bigger\")\n",
        "else:\n",
        "  print(\"Length of list is bigger\")"
      ],
      "metadata": {
        "colab": {
          "base_uri": "https://localhost:8080/"
        },
        "id": "jkJOCM_423KS",
        "outputId": "eaf2e0e8-f6f7-424b-bc2f-66febf661155"
      },
      "execution_count": 64,
      "outputs": [
        {
          "output_type": "stream",
          "name": "stdout",
          "text": [
            "Length of list is bigger\n"
          ]
        }
      ]
    },
    {
      "cell_type": "code",
      "execution_count": 65,
      "metadata": {
        "colab": {
          "base_uri": "https://localhost:8080/"
        },
        "id": "62d4bc84-ca64-4ed2-8175-a8cd653eb7cd",
        "outputId": "e7f20f53-15ee-48af-d213-8d09867eafe7"
      },
      "outputs": [
        {
          "output_type": "stream",
          "name": "stdout",
          "text": [
            "Splitted sentence: ['I', 'am', 'a', 'teacher', 'and', 'I', 'love', 'to', 'inspire', 'and', 'teach', 'people.']\n",
            "Unique words: {'am', 'inspire', 'to', 'teach', 'teacher', 'I', 'love', 'people.', 'a', 'and'}\n",
            "No.of Unique words: 10\n"
          ]
        }
      ],
      "source": [
        "# 14. \"I am a teacher and I love to inspire and teach people.\"\n",
        "# How many unique words have been used in the sentence? Use the split methods and set to get the unique words.\n",
        "sentence = \"I am a teacher and I love to inspire and teach people.\"\n",
        "split_sentence = sentence.split()\n",
        "print('Splitted sentence:',split_sentence)\n",
        "print(\"Unique words:\",set(split_sentence))\n",
        "print(\"No.of Unique words:\",len(set(split_sentence)))"
      ]
    },
    {
      "cell_type": "code",
      "execution_count": 66,
      "metadata": {
        "id": "8492f961-62c3-4a75-9f7f-37afa6ba0b36"
      },
      "outputs": [],
      "source": [
        "# 15. Explain the difference between the following data types: string, list, tuple and set\n",
        "# String = immutable, ordered, duplicates, enclosed in \"\" or ''.\n",
        "# List = mutable, ordered, duplicates, multiple data type, enclosed in [].\n",
        "# Tuple = immutable, ordered, duplicates, multiple data type, enclosed in ().\n",
        "# Set = mutable, unordered, no duplicates, multiple data type, enclosed in {}. If we want to create an empty set use set()."
      ]
    },
    {
      "cell_type": "markdown",
      "source": [
        "## Dictionaries"
      ],
      "metadata": {
        "id": "kRnWm5DKPQZG"
      }
    },
    {
      "cell_type": "code",
      "execution_count": 67,
      "metadata": {
        "colab": {
          "base_uri": "https://localhost:8080/"
        },
        "id": "532cece2-c933-43e5-a08d-009113e17b3b",
        "outputId": "80c62040-9929-4716-df43-07f1f9b588ee"
      },
      "outputs": [
        {
          "output_type": "stream",
          "name": "stdout",
          "text": [
            "<class 'dict'>\n"
          ]
        }
      ],
      "source": [
        "# 1. Create an empty dictionary called dogs\n",
        "dogs = {}\n",
        "print(type(dogs))"
      ]
    },
    {
      "cell_type": "code",
      "execution_count": 68,
      "metadata": {
        "colab": {
          "base_uri": "https://localhost:8080/"
        },
        "id": "b5f1e41e-5a37-4334-8c7a-b02e6cfc2e48",
        "outputId": "4bad7550-a162-4c04-d26a-e1d9d35bacaa"
      },
      "outputs": [
        {
          "output_type": "stream",
          "name": "stdout",
          "text": [
            "{'name': 'Max', 'color': 'White', 'breed': 'Husky', 'legs': 4, 'age': 2}\n"
          ]
        }
      ],
      "source": [
        "# 2. Add name, color, breed, legs, age to the dog dictionary\n",
        "dog = {'name':'Max',\n",
        "       'color':'White',\n",
        "       'breed': 'Husky',\n",
        "       'legs':4,\n",
        "       'age':2}\n",
        "print(dog)"
      ]
    },
    {
      "cell_type": "code",
      "execution_count": 69,
      "metadata": {
        "colab": {
          "base_uri": "https://localhost:8080/"
        },
        "id": "8bdbb97f-ec52-4d94-9142-6900bc9a948f",
        "outputId": "bf6ac419-88e0-4d35-840f-0b0aecbf0d5f"
      },
      "outputs": [
        {
          "output_type": "stream",
          "name": "stdout",
          "text": [
            "{'first_name': 'Aswin', 'last_name': 'ajith', 'gender': 'Male', 'age': 25, 'marital_status': 'Single', 'skills': ['Coder', 'Communication', 'problem solving'], 'country': 'India', 'city': 'Thrissur', 'address': 'Naduvilkara P.O'}\n"
          ]
        }
      ],
      "source": [
        "# 3. Create a student dictionary and add first_name, last_name, gender, age,\n",
        "    # marital status, skills, country, city and address as keys for the dictionary\n",
        "student = {'first_name':'Aswin',\n",
        "           'last_name':'ajith',\n",
        "           'gender':'Male',\n",
        "           'age':25,\n",
        "           'marital_status':'Single',\n",
        "           'skills':['Coder','Communication','problem solving'],\n",
        "           'country':'India',\n",
        "           'city':'Thrissur',\n",
        "           'address':'Naduvilkara P.O'}\n",
        "print(student)"
      ]
    },
    {
      "cell_type": "code",
      "execution_count": 70,
      "metadata": {
        "colab": {
          "base_uri": "https://localhost:8080/"
        },
        "id": "b49fcafb-8a26-401f-8cfe-978eca7fd83e",
        "outputId": "20a93a72-f720-4dab-9b4d-27c2bcccdc35"
      },
      "outputs": [
        {
          "output_type": "stream",
          "name": "stdout",
          "text": [
            "Length of student dictionary: 9\n"
          ]
        }
      ],
      "source": [
        "# 4. Get the length of the student dictionary\n",
        "print(\"Length of student dictionary:\",len(student))"
      ]
    },
    {
      "cell_type": "code",
      "execution_count": 71,
      "metadata": {
        "colab": {
          "base_uri": "https://localhost:8080/"
        },
        "id": "72fa5725-2459-42e8-ac03-606aa5d8f7af",
        "outputId": "3f7a63ed-c918-46ed-f78e-8f08e8655437"
      },
      "outputs": [
        {
          "output_type": "stream",
          "name": "stdout",
          "text": [
            "['Coder', 'Communication', 'problem solving']\n",
            "<class 'list'>\n"
          ]
        }
      ],
      "source": [
        "# 5. Get the value of skills and check the data type, it should be a list\n",
        "print(student['skills'])\n",
        "print(type(student['skills']))"
      ]
    },
    {
      "cell_type": "code",
      "execution_count": 72,
      "metadata": {
        "colab": {
          "base_uri": "https://localhost:8080/"
        },
        "id": "e8ea173a-50cc-4e57-b56e-9f0081cde762",
        "outputId": "e1b31bac-9da3-42ee-f9be-8b44310c5873"
      },
      "outputs": [
        {
          "output_type": "stream",
          "name": "stdout",
          "text": [
            "{'first_name': 'Aswin', 'last_name': 'ajith', 'gender': 'Male', 'age': 25, 'marital_status': 'Single', 'skills': ['Coder', 'Communication', 'problem solving', 'Teamplayer'], 'country': 'India', 'city': 'Thrissur', 'address': 'Naduvilkara P.O'}\n"
          ]
        }
      ],
      "source": [
        "# 6. Modify the skills values by adding one or two skills\n",
        "student['skills'].extend(['Teamplayer'])\n",
        "print(student)"
      ]
    },
    {
      "cell_type": "code",
      "execution_count": 73,
      "metadata": {
        "colab": {
          "base_uri": "https://localhost:8080/"
        },
        "id": "66d4247d-8d74-4393-840e-dc5123f24ff6",
        "outputId": "945b0c0c-578a-447b-a225-e8e6df85f96c"
      },
      "outputs": [
        {
          "output_type": "stream",
          "name": "stdout",
          "text": [
            "Keys as list: ['first_name', 'last_name', 'gender', 'age', 'marital_status', 'skills', 'country', 'city', 'address']\n"
          ]
        }
      ],
      "source": [
        "# 7. Get the dictionary keys as a list\n",
        "print(\"Keys as list:\",list(student.keys()))"
      ]
    },
    {
      "cell_type": "code",
      "execution_count": 74,
      "metadata": {
        "colab": {
          "base_uri": "https://localhost:8080/"
        },
        "id": "e173a41e-3495-4f72-89c2-160618e42ffe",
        "outputId": "d3a20e35-08ba-4cec-9654-2daa41bbf715"
      },
      "outputs": [
        {
          "output_type": "stream",
          "name": "stdout",
          "text": [
            "Values as list: ['Aswin', 'ajith', 'Male', 25, 'Single', ['Coder', 'Communication', 'problem solving', 'Teamplayer'], 'India', 'Thrissur', 'Naduvilkara P.O']\n"
          ]
        }
      ],
      "source": [
        "# 8. Get the dictionary values as a list\n",
        "print(\"Values as list:\",list(student.values()))"
      ]
    },
    {
      "cell_type": "code",
      "execution_count": 75,
      "metadata": {
        "colab": {
          "base_uri": "https://localhost:8080/"
        },
        "id": "23aa404e-953a-4b01-8646-ab7428daa746",
        "outputId": "f1d6de4f-3c7d-4801-c404-f27294df6f44"
      },
      "outputs": [
        {
          "output_type": "stream",
          "name": "stdout",
          "text": [
            "Dict as list of tuples: [('first_name', 'Aswin'), ('last_name', 'ajith'), ('gender', 'Male'), ('age', 25), ('marital_status', 'Single'), ('skills', ['Coder', 'Communication', 'problem solving', 'Teamplayer']), ('country', 'India'), ('city', 'Thrissur'), ('address', 'Naduvilkara P.O')]\n"
          ]
        }
      ],
      "source": [
        "# 9. Change the dictionary to a list of tuples using items() method\n",
        "print(\"Dict as list of tuples:\",list(student.items()))"
      ]
    },
    {
      "cell_type": "code",
      "execution_count": 76,
      "metadata": {
        "id": "e4c3a0a9-c9d8-4ad8-9e9e-f61b92d06952"
      },
      "outputs": [],
      "source": [
        "# 10. Delete one of the items in the dictionary\n",
        "del student['marital_status']"
      ]
    },
    {
      "cell_type": "code",
      "source": [
        "print(student)"
      ],
      "metadata": {
        "colab": {
          "base_uri": "https://localhost:8080/"
        },
        "id": "4P9ND2lcz-tn",
        "outputId": "98618cb1-10f9-44ac-cb26-04b1f4fcd737"
      },
      "execution_count": 77,
      "outputs": [
        {
          "output_type": "stream",
          "name": "stdout",
          "text": [
            "{'first_name': 'Aswin', 'last_name': 'ajith', 'gender': 'Male', 'age': 25, 'skills': ['Coder', 'Communication', 'problem solving', 'Teamplayer'], 'country': 'India', 'city': 'Thrissur', 'address': 'Naduvilkara P.O'}\n"
          ]
        }
      ]
    },
    {
      "cell_type": "code",
      "execution_count": 78,
      "metadata": {
        "id": "e868f738-ca08-47cb-90db-6284f2e05c42"
      },
      "outputs": [],
      "source": [
        "# 11. Delete one of the dictionaries\n",
        "del student"
      ]
    }
  ]
}