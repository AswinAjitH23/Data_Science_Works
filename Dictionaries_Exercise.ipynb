{
  "cells": [
    {
      "cell_type": "markdown",
      "id": "ca5621d4-6342-4176-a9d9-66ef7b1e7005",
      "metadata": {
        "id": "ca5621d4-6342-4176-a9d9-66ef7b1e7005"
      },
      "source": [
        "#### Dictionaries - Exercises"
      ]
    },
    {
      "cell_type": "code",
      "execution_count": null,
      "id": "532cece2-c933-43e5-a08d-009113e17b3b",
      "metadata": {
        "colab": {
          "base_uri": "https://localhost:8080/"
        },
        "id": "532cece2-c933-43e5-a08d-009113e17b3b",
        "outputId": "c2878496-9f66-4d75-8a96-2905fb628c34"
      },
      "outputs": [
        {
          "output_type": "stream",
          "name": "stdout",
          "text": [
            "<class 'dict'>\n"
          ]
        }
      ],
      "source": [
        "# 1. Create an empty dictionary called dogs\n",
        "dogs = {}\n",
        "print(type(dogs))"
      ]
    },
    {
      "cell_type": "code",
      "execution_count": 1,
      "id": "b5f1e41e-5a37-4334-8c7a-b02e6cfc2e48",
      "metadata": {
        "colab": {
          "base_uri": "https://localhost:8080/"
        },
        "id": "b5f1e41e-5a37-4334-8c7a-b02e6cfc2e48",
        "outputId": "86c66aac-ff39-4253-8a90-11f69c641988"
      },
      "outputs": [
        {
          "output_type": "stream",
          "name": "stdout",
          "text": [
            "{'name': 'Max', 'color': 'White', 'breed': 'Husky', 'legs': 4, 'age': 2}\n"
          ]
        }
      ],
      "source": [
        "# 2. Add name, color, breed, legs, age to the dog dictionary\n",
        "dog = {'name':'Max',\n",
        "       'color':'White',\n",
        "       'breed': 'Husky',\n",
        "       'legs':4,\n",
        "       'age':2}\n",
        "print(dog)"
      ]
    },
    {
      "cell_type": "code",
      "execution_count": 2,
      "id": "8bdbb97f-ec52-4d94-9142-6900bc9a948f",
      "metadata": {
        "colab": {
          "base_uri": "https://localhost:8080/"
        },
        "id": "8bdbb97f-ec52-4d94-9142-6900bc9a948f",
        "outputId": "91894736-d4bf-4087-9385-f0e5719ac749"
      },
      "outputs": [
        {
          "output_type": "stream",
          "name": "stdout",
          "text": [
            "{'first_name': 'Aswin', 'last_name': 'ajith', 'gender': 'Male', 'age': 25, 'marital_status': 'Single', 'skills': ['Coder', 'Communication', 'problem solving'], 'country': 'India', 'city': 'Thrissur', 'address': 'Naduvilkara P.O'}\n"
          ]
        }
      ],
      "source": [
        "# 3. Create a student dictionary and add first_name, last_name, gender, age,\n",
        "    # marital status, skills, country, city and address as keys for the dictionary\n",
        "student = {'first_name':'Aswin',\n",
        "           'last_name':'ajith',\n",
        "           'gender':'Male',\n",
        "           'age':25,\n",
        "           'marital_status':'Single',\n",
        "           'skills':['Coder','Communication','problem solving'],\n",
        "           'country':'India',\n",
        "           'city':'Thrissur',\n",
        "           'address':'Naduvilkara P.O'}\n",
        "print(student)"
      ]
    },
    {
      "cell_type": "code",
      "execution_count": 3,
      "id": "b49fcafb-8a26-401f-8cfe-978eca7fd83e",
      "metadata": {
        "colab": {
          "base_uri": "https://localhost:8080/"
        },
        "id": "b49fcafb-8a26-401f-8cfe-978eca7fd83e",
        "outputId": "b75304ae-a95c-439a-fc81-1ea9c38e07ce"
      },
      "outputs": [
        {
          "output_type": "stream",
          "name": "stdout",
          "text": [
            "Length of student dictionary: 9\n"
          ]
        }
      ],
      "source": [
        "# 4. Get the length of the student dictionary\n",
        "print(\"Length of student dictionary:\",len(student))"
      ]
    },
    {
      "cell_type": "code",
      "execution_count": 4,
      "id": "72fa5725-2459-42e8-ac03-606aa5d8f7af",
      "metadata": {
        "colab": {
          "base_uri": "https://localhost:8080/"
        },
        "id": "72fa5725-2459-42e8-ac03-606aa5d8f7af",
        "outputId": "9527b452-7cf1-4136-f4df-b5d414bc923b"
      },
      "outputs": [
        {
          "output_type": "stream",
          "name": "stdout",
          "text": [
            "['Coder', 'Communication', 'problem solving']\n",
            "<class 'list'>\n"
          ]
        }
      ],
      "source": [
        "# 5. Get the value of skills and check the data type, it should be a list\n",
        "print(student['skills'])\n",
        "print(type(student['skills']))"
      ]
    },
    {
      "cell_type": "code",
      "execution_count": 5,
      "id": "e8ea173a-50cc-4e57-b56e-9f0081cde762",
      "metadata": {
        "colab": {
          "base_uri": "https://localhost:8080/"
        },
        "id": "e8ea173a-50cc-4e57-b56e-9f0081cde762",
        "outputId": "e46b7cd0-f924-4906-e61c-5e16d6f25447"
      },
      "outputs": [
        {
          "output_type": "stream",
          "name": "stdout",
          "text": [
            "{'first_name': 'Aswin', 'last_name': 'ajith', 'gender': 'Male', 'age': 25, 'marital_status': 'Single', 'skills': ['Coder', 'Communication', 'problem solving', 'Teamplayer'], 'country': 'India', 'city': 'Thrissur', 'address': 'Naduvilkara P.O'}\n"
          ]
        }
      ],
      "source": [
        "# 6. Modify the skills values by adding one or two skills\n",
        "student['skills'].extend(['Teamplayer'])\n",
        "print(student)"
      ]
    },
    {
      "cell_type": "code",
      "execution_count": 6,
      "id": "66d4247d-8d74-4393-840e-dc5123f24ff6",
      "metadata": {
        "colab": {
          "base_uri": "https://localhost:8080/"
        },
        "id": "66d4247d-8d74-4393-840e-dc5123f24ff6",
        "outputId": "b470e83b-c399-4256-bafa-ed140d5746fe"
      },
      "outputs": [
        {
          "output_type": "stream",
          "name": "stdout",
          "text": [
            "Keys as list: ['first_name', 'last_name', 'gender', 'age', 'marital_status', 'skills', 'country', 'city', 'address']\n"
          ]
        }
      ],
      "source": [
        "# 7. Get the dictionary keys as a list\n",
        "print(\"Keys as list:\",list(student.keys()))"
      ]
    },
    {
      "cell_type": "code",
      "execution_count": 7,
      "id": "e173a41e-3495-4f72-89c2-160618e42ffe",
      "metadata": {
        "colab": {
          "base_uri": "https://localhost:8080/"
        },
        "id": "e173a41e-3495-4f72-89c2-160618e42ffe",
        "outputId": "db12e958-0afd-43a5-d8f7-232b14ba5b2c"
      },
      "outputs": [
        {
          "output_type": "stream",
          "name": "stdout",
          "text": [
            "Values as list: ['Aswin', 'ajith', 'Male', 25, 'Single', ['Coder', 'Communication', 'problem solving', 'Teamplayer'], 'India', 'Thrissur', 'Naduvilkara P.O']\n"
          ]
        }
      ],
      "source": [
        "# 8. Get the dictionary values as a list\n",
        "print(\"Values as list:\",list(student.values()))"
      ]
    },
    {
      "cell_type": "code",
      "execution_count": 8,
      "id": "23aa404e-953a-4b01-8646-ab7428daa746",
      "metadata": {
        "colab": {
          "base_uri": "https://localhost:8080/"
        },
        "id": "23aa404e-953a-4b01-8646-ab7428daa746",
        "outputId": "75fbee8c-aba7-42cc-9b6b-3249c938a12e"
      },
      "outputs": [
        {
          "output_type": "stream",
          "name": "stdout",
          "text": [
            "Dict as list of tuples: [('first_name', 'Aswin'), ('last_name', 'ajith'), ('gender', 'Male'), ('age', 25), ('marital_status', 'Single'), ('skills', ['Coder', 'Communication', 'problem solving', 'Teamplayer']), ('country', 'India'), ('city', 'Thrissur'), ('address', 'Naduvilkara P.O')]\n"
          ]
        }
      ],
      "source": [
        "# 9. Change the dictionary to a list of tuples using items() method\n",
        "print(\"Dict as list of tuples:\",list(student.items()))"
      ]
    },
    {
      "cell_type": "code",
      "execution_count": 9,
      "id": "e4c3a0a9-c9d8-4ad8-9e9e-f61b92d06952",
      "metadata": {
        "id": "e4c3a0a9-c9d8-4ad8-9e9e-f61b92d06952"
      },
      "outputs": [],
      "source": [
        "# 10. Delete one of the items in the dictionary\n",
        "del student['marital_status']"
      ]
    },
    {
      "cell_type": "code",
      "source": [
        "print(student)"
      ],
      "metadata": {
        "colab": {
          "base_uri": "https://localhost:8080/"
        },
        "id": "4P9ND2lcz-tn",
        "outputId": "53a3d079-496b-46c9-ec3a-dcc63bc7e269"
      },
      "id": "4P9ND2lcz-tn",
      "execution_count": 10,
      "outputs": [
        {
          "output_type": "stream",
          "name": "stdout",
          "text": [
            "{'first_name': 'Aswin', 'last_name': 'ajith', 'gender': 'Male', 'age': 25, 'skills': ['Coder', 'Communication', 'problem solving', 'Teamplayer'], 'country': 'India', 'city': 'Thrissur', 'address': 'Naduvilkara P.O'}\n"
          ]
        }
      ]
    },
    {
      "cell_type": "code",
      "execution_count": 11,
      "id": "e868f738-ca08-47cb-90db-6284f2e05c42",
      "metadata": {
        "id": "e868f738-ca08-47cb-90db-6284f2e05c42"
      },
      "outputs": [],
      "source": [
        "# 11. Delete one of the dictionaries\n",
        "del student"
      ]
    },
    {
      "cell_type": "code",
      "source": [
        "student"
      ],
      "metadata": {
        "id": "ahqYKG0S0Bcl",
        "outputId": "760dad7d-a5ea-4d34-c6f0-431a387c4b01",
        "colab": {
          "base_uri": "https://localhost:8080/",
          "height": 141
        }
      },
      "id": "ahqYKG0S0Bcl",
      "execution_count": 12,
      "outputs": [
        {
          "output_type": "error",
          "ename": "NameError",
          "evalue": "name 'student' is not defined",
          "traceback": [
            "\u001b[0;31m---------------------------------------------------------------------------\u001b[0m",
            "\u001b[0;31mNameError\u001b[0m                                 Traceback (most recent call last)",
            "\u001b[0;32m/tmp/ipython-input-2837240772.py\u001b[0m in \u001b[0;36m<cell line: 0>\u001b[0;34m()\u001b[0m\n\u001b[0;32m----> 1\u001b[0;31m \u001b[0mstudent\u001b[0m\u001b[0;34m\u001b[0m\u001b[0;34m\u001b[0m\u001b[0m\n\u001b[0m",
            "\u001b[0;31mNameError\u001b[0m: name 'student' is not defined"
          ]
        }
      ]
    }
  ],
  "metadata": {
    "kernelspec": {
      "display_name": "Python 3 (ipykernel)",
      "language": "python",
      "name": "python3"
    },
    "language_info": {
      "codemirror_mode": {
        "name": "ipython",
        "version": 3
      },
      "file_extension": ".py",
      "mimetype": "text/x-python",
      "name": "python",
      "nbconvert_exporter": "python",
      "pygments_lexer": "ipython3",
      "version": "3.12.7"
    },
    "colab": {
      "provenance": []
    }
  },
  "nbformat": 4,
  "nbformat_minor": 5
}