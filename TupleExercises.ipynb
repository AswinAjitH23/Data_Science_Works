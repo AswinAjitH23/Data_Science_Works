{
  "cells": [
    {
      "cell_type": "markdown",
      "id": "403ae88f-1a02-4a8a-a148-78c273eae750",
      "metadata": {
        "id": "403ae88f-1a02-4a8a-a148-78c273eae750"
      },
      "source": [
        "### Exercises: Tuples"
      ]
    },
    {
      "cell_type": "code",
      "execution_count": 1,
      "id": "1026f155-cd7c-433e-8301-845f7159d638",
      "metadata": {
        "id": "1026f155-cd7c-433e-8301-845f7159d638",
        "colab": {
          "base_uri": "https://localhost:8080/"
        },
        "outputId": "0b634e2f-ae56-4e71-8658-9d4b8d247a2e"
      },
      "outputs": [
        {
          "output_type": "stream",
          "name": "stdout",
          "text": [
            "<class 'tuple'>\n"
          ]
        }
      ],
      "source": [
        "# 1. Create an empty tuple\n",
        "empty_tuple = ()\n",
        "print(type(empty_tuple))"
      ]
    },
    {
      "cell_type": "code",
      "execution_count": 2,
      "id": "b47ce189-aba9-43a6-a16c-1d5120105d70",
      "metadata": {
        "id": "b47ce189-aba9-43a6-a16c-1d5120105d70"
      },
      "outputs": [],
      "source": [
        "# 2. Create a tuple containing names of your sisters and your brothers (imaginary siblings are fine)\n",
        "sister_brother = ('Achu','Appu','Kichu','Gokul','Ammu')"
      ]
    },
    {
      "cell_type": "code",
      "execution_count": 3,
      "id": "681fb7d0-cda0-47c8-949f-d62a92a7c496",
      "metadata": {
        "colab": {
          "base_uri": "https://localhost:8080/"
        },
        "id": "681fb7d0-cda0-47c8-949f-d62a92a7c496",
        "outputId": "b02d4abf-2bc2-41b7-971e-b8bc678df1f1"
      },
      "outputs": [
        {
          "output_type": "stream",
          "name": "stdout",
          "text": [
            "('Appu', 'Kichu', 'Gokul', 'Ammu', 'Achu')\n"
          ]
        }
      ],
      "source": [
        "# 3. Join brothers and sisters tuples and assign it to siblings\n",
        "brothers = ('Appu','Kichu','Gokul')\n",
        "sisters = ('Ammu','Achu')\n",
        "siblings = brothers + sisters\n",
        "print(siblings)"
      ]
    },
    {
      "cell_type": "code",
      "execution_count": 4,
      "id": "ecdd3608-13c6-4e97-bb21-e326ec1c0878",
      "metadata": {
        "colab": {
          "base_uri": "https://localhost:8080/"
        },
        "id": "ecdd3608-13c6-4e97-bb21-e326ec1c0878",
        "outputId": "1b3cbc06-cea5-42f5-ed1e-733a77d1fd1e"
      },
      "outputs": [
        {
          "output_type": "stream",
          "name": "stdout",
          "text": [
            "Length of siblings: 5\n"
          ]
        }
      ],
      "source": [
        "# 4. How many siblings do you have?\n",
        "print(\"Length of siblings:\",len(siblings))"
      ]
    },
    {
      "cell_type": "code",
      "execution_count": 5,
      "id": "34683f88-9735-45af-845f-f52abc29533a",
      "metadata": {
        "colab": {
          "base_uri": "https://localhost:8080/"
        },
        "id": "34683f88-9735-45af-845f-f52abc29533a",
        "outputId": "906eb42f-2915-4ded-cbdf-dd15714c0b30"
      },
      "outputs": [
        {
          "output_type": "stream",
          "name": "stdout",
          "text": [
            "('Appu', 'Kichu', 'Gokul', 'Ammu', 'Achu', 'Ajith', 'Beena')\n"
          ]
        }
      ],
      "source": [
        "# 5. Modify the siblings tuple and add the name of your father and mother and assign it to family_members\n",
        "family_members = siblings + ('Ajith', 'Beena')\n",
        "print(family_members)"
      ]
    },
    {
      "cell_type": "code",
      "execution_count": 6,
      "id": "8e5d51d0-fdc2-4ab9-a83d-6e9384325a67",
      "metadata": {
        "colab": {
          "base_uri": "https://localhost:8080/"
        },
        "id": "8e5d51d0-fdc2-4ab9-a83d-6e9384325a67",
        "outputId": "88ae5b73-0723-4f11-f5e8-4b22ccfeb482"
      },
      "outputs": [
        {
          "output_type": "stream",
          "name": "stdout",
          "text": [
            "Parents: ('Ajith', 'Beena')\n",
            "Siblings: ('Appu', 'Kichu', 'Gokul', 'Ammu', 'Achu')\n"
          ]
        }
      ],
      "source": [
        "# 6. Unpack siblings and parents from family_members\n",
        "parents = family_members[5:7]\n",
        "print(\"Parents:\",parents)\n",
        "siblings = family_members[0:5]\n",
        "print(\"Siblings:\",siblings)"
      ]
    },
    {
      "cell_type": "code",
      "execution_count": 7,
      "id": "4cb60264-6b36-4104-b884-a98550645f5a",
      "metadata": {
        "colab": {
          "base_uri": "https://localhost:8080/"
        },
        "id": "4cb60264-6b36-4104-b884-a98550645f5a",
        "outputId": "7c4554ea-8b06-4550-f9b1-0c1a28325997"
      },
      "outputs": [
        {
          "output_type": "stream",
          "name": "stdout",
          "text": [
            "('Apple', 'Mango', 'Orange', 'Carrot', 'Potato', 'Onion', 'Milk', 'Ghee', 'Paneer')\n"
          ]
        }
      ],
      "source": [
        "# 7. Create fruits, vegetables and animal products tuples. Join the three tuples and\n",
        "# assign it to a variable called food_stuff_tp.\n",
        "fruits = ('Apple','Mango','Orange')\n",
        "vegetables = ('Carrot','Potato','Onion')\n",
        "animal_products = ('Milk','Ghee','Paneer')\n",
        "food_stuff_tp = fruits + vegetables + animal_products\n",
        "print(food_stuff_tp)"
      ]
    },
    {
      "cell_type": "code",
      "execution_count": 8,
      "id": "a900b2a8-d7e5-4256-a975-09a3ba091dbe",
      "metadata": {
        "colab": {
          "base_uri": "https://localhost:8080/"
        },
        "id": "a900b2a8-d7e5-4256-a975-09a3ba091dbe",
        "outputId": "d520bf62-4f39-4947-c76c-ee07fc0549f4"
      },
      "outputs": [
        {
          "output_type": "stream",
          "name": "stdout",
          "text": [
            "['Apple', 'Mango', 'Orange', 'Carrot', 'Potato', 'Onion', 'Milk', 'Ghee', 'Paneer']\n"
          ]
        }
      ],
      "source": [
        "# 8. Change the about food_stuff_tp tuple to a food_stuff_lt list\n",
        "food_stuff_lt = list(food_stuff_tp)\n",
        "print(food_stuff_lt)"
      ]
    },
    {
      "cell_type": "code",
      "execution_count": 11,
      "id": "dafc6ef2-9c02-45d3-ad81-5d5fd6842d97",
      "metadata": {
        "colab": {
          "base_uri": "https://localhost:8080/"
        },
        "id": "dafc6ef2-9c02-45d3-ad81-5d5fd6842d97",
        "outputId": "89851cd5-942f-4786-a432-cdb070b226f0"
      },
      "outputs": [
        {
          "output_type": "stream",
          "name": "stdout",
          "text": [
            "Middle item in the food_stuff_lt list: Potato\n"
          ]
        }
      ],
      "source": [
        "# 9. Slice out the middle item or items from the food_stuff_tp tuple or food_stuff_lt\n",
        "print(\"Middle item in the food_stuff_lt list:\",food_stuff_lt[len(food_stuff_lt)//2])"
      ]
    },
    {
      "cell_type": "code",
      "execution_count": null,
      "id": "fa0cf3bc-9086-43a5-9536-27aa8843a3d0",
      "metadata": {
        "colab": {
          "base_uri": "https://localhost:8080/"
        },
        "id": "fa0cf3bc-9086-43a5-9536-27aa8843a3d0",
        "outputId": "39d24df2-bce0-4252-d5cf-09ad59512b71"
      },
      "outputs": [
        {
          "output_type": "stream",
          "name": "stdout",
          "text": [
            "First 3: ['Apple', 'Mango']\n",
            "Last 3: ['Milk', 'Ghee', 'Paneer']\n"
          ]
        }
      ],
      "source": [
        "# 10.  Slice out the first three items and the last three items from food_staff_lt list\n",
        "print(\"First 3:\",food_stuff_lt[0:2])\n",
        "print(\"Last 3:\",food_stuff_lt[-3:])"
      ]
    },
    {
      "cell_type": "code",
      "execution_count": null,
      "id": "32d62f86-00ff-42ad-b1a4-83c9637220bd",
      "metadata": {
        "id": "32d62f86-00ff-42ad-b1a4-83c9637220bd"
      },
      "outputs": [],
      "source": [
        "# 11. Delete the food_staff_tp tuple completely\n",
        "del food_stuff_tp"
      ]
    },
    {
      "cell_type": "code",
      "execution_count": null,
      "id": "d786909d-d7d4-45ec-80ca-6feab7a6efd2",
      "metadata": {
        "colab": {
          "base_uri": "https://localhost:8080/"
        },
        "id": "d786909d-d7d4-45ec-80ca-6feab7a6efd2",
        "outputId": "7c7f7411-24e9-4c5d-9dd8-d415356af922"
      },
      "outputs": [
        {
          "output_type": "stream",
          "name": "stdout",
          "text": [
            "False\n",
            "True\n"
          ]
        }
      ],
      "source": [
        "# 12. Check if an item exists in tuple:\n",
        "# Check if 'Estonia' is a nordic country\n",
        "# Check if 'Iceland' is a nordic country\n",
        "# nordic_countries = ('Denmark', 'Finland','Iceland', 'Norway', 'Sweden')\n",
        "nordic_countries = ('Denmark', 'Finland','Iceland', 'Norway', 'Sweden')\n",
        "print(('Estonia' in nordic_countries))\n",
        "print(('Iceland' in nordic_countries))"
      ]
    }
  ],
  "metadata": {
    "kernelspec": {
      "display_name": "Python 3 (ipykernel)",
      "language": "python",
      "name": "python3"
    },
    "language_info": {
      "codemirror_mode": {
        "name": "ipython",
        "version": 3
      },
      "file_extension": ".py",
      "mimetype": "text/x-python",
      "name": "python",
      "nbconvert_exporter": "python",
      "pygments_lexer": "ipython3",
      "version": "3.12.7"
    },
    "colab": {
      "provenance": []
    }
  },
  "nbformat": 4,
  "nbformat_minor": 5
}